{
 "cells": [
  {
   "cell_type": "code",
   "execution_count": 1,
   "metadata": {
    "_cell_guid": "b1076dfc-b9ad-4769-8c92-a6c4dae69d19",
    "_uuid": "8f2839f25d086af736a60e9eeb907d3b93b6e0e5"
   },
   "outputs": [
    {
     "name": "stdout",
     "output_type": "stream",
     "text": [
      "/kaggle/input/steam-reviews-test-dataset/test.csv\n",
      "/kaggle/input/steam-reviews/train.csv\n"
     ]
    }
   ],
   "source": [
    "# This Python 3 environment comes with many helpful analytics libraries installed\n",
    "# It is defined by the kaggle/python Docker image: https://github.com/kaggle/docker-python\n",
    "# For example, here's several helpful packages to load\n",
    "\n",
    "import numpy as np # linear algebra\n",
    "import pandas as pd # data processing, CSV file I/O (e.g. pd.read_csv)\n",
    "\n",
    "# Input data files are available in the read-only \"../input/\" directory\n",
    "# For example, running this (by clicking run or pressing Shift+Enter) will list all files under the input directory\n",
    "\n",
    "import os\n",
    "for dirname, _, filenames in os.walk('/kaggle/input'):\n",
    "    for filename in filenames:\n",
    "        print(os.path.join(dirname, filename))\n",
    "\n",
    "# You can write up to 5GB to the current directory (/kaggle/working/) that gets preserved as output when you create a version using \"Save & Run All\" \n",
    "# You can also write temporary files to /kaggle/temp/, but they won't be saved outside of the current session"
   ]
  },
  {
   "cell_type": "code",
   "execution_count": 2,
   "metadata": {
    "_cell_guid": "79c7e3d0-c299-4dcb-8224-4455121ee9b0",
    "_uuid": "d629ff2d2480ee46fbb7e2d37f6b5fab8052498a"
   },
   "outputs": [],
   "source": [
    "import pandas as pd\n",
    "import numpy as np\n",
    "from sklearn import preprocessing\n",
    "import matplotlib.pyplot as plt\n",
    "import seaborn as sns\n",
    "from sklearn.metrics import confusion_matrix, accuracy_score, classification_report\n",
    "from sklearn.tree import DecisionTreeClassifier\n",
    "from sklearn.model_selection import cross_val_score \n",
    "from sklearn.ensemble import RandomForestClassifier\n",
    "import xgboost\n",
    "from sklearn.model_selection import train_test_split\n",
    "from sklearn.feature_extraction.text import CountVectorizer\n",
    "import warnings\n",
    "np.random.seed(123)\n",
    "warnings.filterwarnings('ignore')\n",
    "from sklearn.pipeline import make_pipeline\n",
    "from sklearn.preprocessing import StandardScaler\n",
    "from sklearn.model_selection import GridSearchCV"
   ]
  },
  {
   "cell_type": "markdown",
   "execution_count": null,
   "metadata": {},
   "source": [
    "# Evolution of NLP - Part 3 - Transfer Learning using ULMFit\n",
    "\n",
    "This is the third part of a series of posts showing the improvements in NLP modeling approaches. We have seen the use of traditional techniques like Bag of Words, TF-IDF, then moved on to RNNs and LSTMs. This time we'll look into one of the pivotal shifts in approaching NLP Tasks - Transfer Learning!"
   ]
  },
  {
   "cell_type": "markdown",
   "execution_count": null,
   "metadata": {},
   "source": [
    "# ULMFit\n",
    "\n",
    "The idea of using Transfer Learning is quite new in NLP Tasks, while it has been quite prominently used in Computer Vision tasks! This new way of looking at NLP was first proposed by Howard Jeremy, and has transformed the way we looked at data proviously!\n",
    "\n",
    "The core idea is two-fold - using generative pretrained Language Model + task-specific fine-tuning was first explored in ULMFiT (Howard & Ruder, 2018), directly motivated by the success of using ImageNet pre-training for computer vision tasks. The base model is AWD-LSTM.\n",
    "\n",
    "A Language Model is exactly like it sounds - the output of this model is to predict the next word of a sentence. The goal is to have a model which can understand the semantics, grammer and unique structure of a language.\n",
    "\n",
    "**ULMFiT** follows three steps to achieve good transfer learning results on downstream language classification tasks:\n",
    "\n",
    "1) General Language Model pre-training: on Wikipedia text.\n",
    "\n",
    "2) Target task Language Model fine-tuning: ULMFiT proposed two training techniques for stabilizing the fine-tuning process.\n",
    "\n",
    "3) Target task classifier fine-tuning: The pretrained LM is augmented with two standard feed-forward layers and a softmax normalization at the end to predict a target label distribution."
   ]
  },
  {
   "cell_type": "markdown",
   "execution_count": null,
   "metadata": {},
   "source": [
    "# Using fast.ai for NLP -\n",
    "\n",
    "**fast.ai**'s motto - Making Neural Networks Uncool again - tells you a lot about their approach ;) Implementation of these models is remarkably simple and intuitive, and with good documentation, you can easily find a solution if you get stuck anywhere. Along with this, and few other reasons I elaborate below, I decided to try out fast.ai library which is build on top of PyTorch instead of Keras. Despite being used to working in Keras, I didn't find it difficult to navigate fast.ai and the learning curve is quite fast to implement advanced things as well!\n",
    "\n",
    "In addition to it's simplicity, there are some advantages of using fast.ai's implementation -\n",
    "\n",
    "* **Discriminative fine-tuning** is motivated by the fact that different layers of LM capture different types of information (see discussion above). ULMFiT proposed to tune each layer with different learning rates, {η1,…,ηℓ,…,ηL}, where η is the base learning rate for the first layer, ηℓ is for the ℓ-th layer and there are L layers in total.\n",
    "\n",
    "* **Slanted triangular learning rates (STLR)** refer to a special learning rate scheduling that first linearly increases the learning rate and then linearly decays it. The increase stage is short so that the model can converge to a parameter space suitable for the task fast, while the decay period is long allowing for better fine-tuning"
   ]
  },
  {
   "cell_type": "markdown",
   "execution_count": null,
   "metadata": {},
   "source": [
    "Let's try to see how well this approach works for our dataset. I would also like to point out that all these ideas and code are available at fast.ai's free official course for NLP - \"\"."
   ]
  },
  {
   "cell_type": "code",
   "execution_count": 3,
   "metadata": {},
   "outputs": [
    {
     "data": {
      "text/html": [
       "<div>\n",
       "<style scoped>\n",
       "    .dataframe tbody tr th:only-of-type {\n",
       "        vertical-align: middle;\n",
       "    }\n",
       "\n",
       "    .dataframe tbody tr th {\n",
       "        vertical-align: top;\n",
       "    }\n",
       "\n",
       "    .dataframe thead th {\n",
       "        text-align: right;\n",
       "    }\n",
       "</style>\n",
       "<table border=\"1\" class=\"dataframe\">\n",
       "  <thead>\n",
       "    <tr style=\"text-align: right;\">\n",
       "      <th></th>\n",
       "      <th>review_id</th>\n",
       "      <th>title</th>\n",
       "      <th>year</th>\n",
       "      <th>user_review</th>\n",
       "      <th>user_suggestion</th>\n",
       "    </tr>\n",
       "  </thead>\n",
       "  <tbody>\n",
       "    <tr>\n",
       "      <th>0</th>\n",
       "      <td>1</td>\n",
       "      <td>Spooky's Jump Scare Mansion</td>\n",
       "      <td>2016.0</td>\n",
       "      <td>I'm scared and hearing creepy voices.  So I'll...</td>\n",
       "      <td>1</td>\n",
       "    </tr>\n",
       "    <tr>\n",
       "      <th>1</th>\n",
       "      <td>2</td>\n",
       "      <td>Spooky's Jump Scare Mansion</td>\n",
       "      <td>2016.0</td>\n",
       "      <td>Best game, more better than Sam Pepper's YouTu...</td>\n",
       "      <td>1</td>\n",
       "    </tr>\n",
       "    <tr>\n",
       "      <th>2</th>\n",
       "      <td>3</td>\n",
       "      <td>Spooky's Jump Scare Mansion</td>\n",
       "      <td>2016.0</td>\n",
       "      <td>A littly iffy on the controls, but once you kn...</td>\n",
       "      <td>1</td>\n",
       "    </tr>\n",
       "    <tr>\n",
       "      <th>3</th>\n",
       "      <td>4</td>\n",
       "      <td>Spooky's Jump Scare Mansion</td>\n",
       "      <td>2015.0</td>\n",
       "      <td>Great game, fun and colorful and all that.A si...</td>\n",
       "      <td>1</td>\n",
       "    </tr>\n",
       "    <tr>\n",
       "      <th>4</th>\n",
       "      <td>5</td>\n",
       "      <td>Spooky's Jump Scare Mansion</td>\n",
       "      <td>2015.0</td>\n",
       "      <td>Not many games have the cute tag right next to...</td>\n",
       "      <td>1</td>\n",
       "    </tr>\n",
       "    <tr>\n",
       "      <th>...</th>\n",
       "      <td>...</td>\n",
       "      <td>...</td>\n",
       "      <td>...</td>\n",
       "      <td>...</td>\n",
       "      <td>...</td>\n",
       "    </tr>\n",
       "    <tr>\n",
       "      <th>17489</th>\n",
       "      <td>25535</td>\n",
       "      <td>EverQuest II</td>\n",
       "      <td>2012.0</td>\n",
       "      <td>Arguably the single greatest mmorp that exists...</td>\n",
       "      <td>1</td>\n",
       "    </tr>\n",
       "    <tr>\n",
       "      <th>17490</th>\n",
       "      <td>25536</td>\n",
       "      <td>EverQuest II</td>\n",
       "      <td>2017.0</td>\n",
       "      <td>An older game, to be sure, but has its own cha...</td>\n",
       "      <td>1</td>\n",
       "    </tr>\n",
       "    <tr>\n",
       "      <th>17491</th>\n",
       "      <td>25537</td>\n",
       "      <td>EverQuest II</td>\n",
       "      <td>2011.0</td>\n",
       "      <td>When I frist started playing Everquest 2 it wa...</td>\n",
       "      <td>1</td>\n",
       "    </tr>\n",
       "    <tr>\n",
       "      <th>17492</th>\n",
       "      <td>25538</td>\n",
       "      <td>EverQuest II</td>\n",
       "      <td>NaN</td>\n",
       "      <td>cool game. THe only thing that REALLY PISSES M...</td>\n",
       "      <td>1</td>\n",
       "    </tr>\n",
       "    <tr>\n",
       "      <th>17493</th>\n",
       "      <td>25539</td>\n",
       "      <td>EverQuest II</td>\n",
       "      <td>NaN</td>\n",
       "      <td>this game since I was a little kid, always hav...</td>\n",
       "      <td>1</td>\n",
       "    </tr>\n",
       "  </tbody>\n",
       "</table>\n",
       "<p>17494 rows × 5 columns</p>\n",
       "</div>"
      ],
      "text/plain": [
       "       review_id                        title    year  \\\n",
       "0              1  Spooky's Jump Scare Mansion  2016.0   \n",
       "1              2  Spooky's Jump Scare Mansion  2016.0   \n",
       "2              3  Spooky's Jump Scare Mansion  2016.0   \n",
       "3              4  Spooky's Jump Scare Mansion  2015.0   \n",
       "4              5  Spooky's Jump Scare Mansion  2015.0   \n",
       "...          ...                          ...     ...   \n",
       "17489      25535                 EverQuest II  2012.0   \n",
       "17490      25536                 EverQuest II  2017.0   \n",
       "17491      25537                 EverQuest II  2011.0   \n",
       "17492      25538                 EverQuest II     NaN   \n",
       "17493      25539                 EverQuest II     NaN   \n",
       "\n",
       "                                             user_review  user_suggestion  \n",
       "0      I'm scared and hearing creepy voices.  So I'll...                1  \n",
       "1      Best game, more better than Sam Pepper's YouTu...                1  \n",
       "2      A littly iffy on the controls, but once you kn...                1  \n",
       "3      Great game, fun and colorful and all that.A si...                1  \n",
       "4      Not many games have the cute tag right next to...                1  \n",
       "...                                                  ...              ...  \n",
       "17489  Arguably the single greatest mmorp that exists...                1  \n",
       "17490  An older game, to be sure, but has its own cha...                1  \n",
       "17491  When I frist started playing Everquest 2 it wa...                1  \n",
       "17492  cool game. THe only thing that REALLY PISSES M...                1  \n",
       "17493  this game since I was a little kid, always hav...                1  \n",
       "\n",
       "[17494 rows x 5 columns]"
      ]
     },
     "execution_count": 3,
     "metadata": {},
     "output_type": "execute_result"
    }
   ],
   "source": [
    "train_dataset = pd.read_csv(\"/kaggle/input/steam-reviews/train.csv\", delimiter=\",\")\n",
    "train_dataset"
   ]
  },
  {
   "cell_type": "code",
   "execution_count": 4,
   "metadata": {},
   "outputs": [],
   "source": [
    "test_dataset = pd.read_csv(\"/kaggle/input/steam-reviews-test-dataset/test.csv\", delimiter=\",\")\n",
    "test_dataset['user_suggestion'] = None"
   ]
  },
  {
   "cell_type": "code",
   "execution_count": 5,
   "metadata": {},
   "outputs": [
    {
     "data": {
      "text/html": [
       "<div>\n",
       "<style scoped>\n",
       "    .dataframe tbody tr th:only-of-type {\n",
       "        vertical-align: middle;\n",
       "    }\n",
       "\n",
       "    .dataframe tbody tr th {\n",
       "        vertical-align: top;\n",
       "    }\n",
       "\n",
       "    .dataframe thead th {\n",
       "        text-align: right;\n",
       "    }\n",
       "</style>\n",
       "<table border=\"1\" class=\"dataframe\">\n",
       "  <thead>\n",
       "    <tr style=\"text-align: right;\">\n",
       "      <th></th>\n",
       "      <th>review_id</th>\n",
       "      <th>title</th>\n",
       "      <th>year</th>\n",
       "      <th>user_review</th>\n",
       "      <th>user_suggestion</th>\n",
       "    </tr>\n",
       "  </thead>\n",
       "  <tbody>\n",
       "    <tr>\n",
       "      <th>0</th>\n",
       "      <td>1</td>\n",
       "      <td>Spooky's Jump Scare Mansion</td>\n",
       "      <td>2016.0</td>\n",
       "      <td>I'm scared and hearing creepy voices.  So I'll...</td>\n",
       "      <td>1</td>\n",
       "    </tr>\n",
       "    <tr>\n",
       "      <th>1</th>\n",
       "      <td>2</td>\n",
       "      <td>Spooky's Jump Scare Mansion</td>\n",
       "      <td>2016.0</td>\n",
       "      <td>Best game, more better than Sam Pepper's YouTu...</td>\n",
       "      <td>1</td>\n",
       "    </tr>\n",
       "    <tr>\n",
       "      <th>2</th>\n",
       "      <td>3</td>\n",
       "      <td>Spooky's Jump Scare Mansion</td>\n",
       "      <td>2016.0</td>\n",
       "      <td>A littly iffy on the controls, but once you kn...</td>\n",
       "      <td>1</td>\n",
       "    </tr>\n",
       "    <tr>\n",
       "      <th>3</th>\n",
       "      <td>4</td>\n",
       "      <td>Spooky's Jump Scare Mansion</td>\n",
       "      <td>2015.0</td>\n",
       "      <td>Great game, fun and colorful and all that.A si...</td>\n",
       "      <td>1</td>\n",
       "    </tr>\n",
       "    <tr>\n",
       "      <th>4</th>\n",
       "      <td>5</td>\n",
       "      <td>Spooky's Jump Scare Mansion</td>\n",
       "      <td>2015.0</td>\n",
       "      <td>Not many games have the cute tag right next to...</td>\n",
       "      <td>1</td>\n",
       "    </tr>\n",
       "    <tr>\n",
       "      <th>...</th>\n",
       "      <td>...</td>\n",
       "      <td>...</td>\n",
       "      <td>...</td>\n",
       "      <td>...</td>\n",
       "      <td>...</td>\n",
       "    </tr>\n",
       "    <tr>\n",
       "      <th>25534</th>\n",
       "      <td>25198</td>\n",
       "      <td>GUNS UP!</td>\n",
       "      <td>2017.0</td>\n",
       "      <td>Early Access ReviewGuns UP!Positive: Good Idea...</td>\n",
       "      <td>None</td>\n",
       "    </tr>\n",
       "    <tr>\n",
       "      <th>25535</th>\n",
       "      <td>25199</td>\n",
       "      <td>GUNS UP!</td>\n",
       "      <td>2018.0</td>\n",
       "      <td>After 170 hrs, my review. DO NOT SPEND ANY MON...</td>\n",
       "      <td>None</td>\n",
       "    </tr>\n",
       "    <tr>\n",
       "      <th>25536</th>\n",
       "      <td>25200</td>\n",
       "      <td>GUNS UP!</td>\n",
       "      <td>2018.0</td>\n",
       "      <td>Pros:-Fun GameplayCons: -Micro %$#*ing transac...</td>\n",
       "      <td>None</td>\n",
       "    </tr>\n",
       "    <tr>\n",
       "      <th>25537</th>\n",
       "      <td>25201</td>\n",
       "      <td>GUNS UP!</td>\n",
       "      <td>2018.0</td>\n",
       "      <td>Actualy saucy, I definetly suggest to players ...</td>\n",
       "      <td>None</td>\n",
       "    </tr>\n",
       "    <tr>\n",
       "      <th>25538</th>\n",
       "      <td>25202</td>\n",
       "      <td>GUNS UP!</td>\n",
       "      <td>NaN</td>\n",
       "      <td>see people that play for 30 minutes and then s...</td>\n",
       "      <td>None</td>\n",
       "    </tr>\n",
       "  </tbody>\n",
       "</table>\n",
       "<p>25539 rows × 5 columns</p>\n",
       "</div>"
      ],
      "text/plain": [
       "       review_id                        title    year  \\\n",
       "0              1  Spooky's Jump Scare Mansion  2016.0   \n",
       "1              2  Spooky's Jump Scare Mansion  2016.0   \n",
       "2              3  Spooky's Jump Scare Mansion  2016.0   \n",
       "3              4  Spooky's Jump Scare Mansion  2015.0   \n",
       "4              5  Spooky's Jump Scare Mansion  2015.0   \n",
       "...          ...                          ...     ...   \n",
       "25534      25198                     GUNS UP!  2017.0   \n",
       "25535      25199                     GUNS UP!  2018.0   \n",
       "25536      25200                     GUNS UP!  2018.0   \n",
       "25537      25201                     GUNS UP!  2018.0   \n",
       "25538      25202                     GUNS UP!     NaN   \n",
       "\n",
       "                                             user_review user_suggestion  \n",
       "0      I'm scared and hearing creepy voices.  So I'll...               1  \n",
       "1      Best game, more better than Sam Pepper's YouTu...               1  \n",
       "2      A littly iffy on the controls, but once you kn...               1  \n",
       "3      Great game, fun and colorful and all that.A si...               1  \n",
       "4      Not many games have the cute tag right next to...               1  \n",
       "...                                                  ...             ...  \n",
       "25534  Early Access ReviewGuns UP!Positive: Good Idea...            None  \n",
       "25535  After 170 hrs, my review. DO NOT SPEND ANY MON...            None  \n",
       "25536  Pros:-Fun GameplayCons: -Micro %$#*ing transac...            None  \n",
       "25537  Actualy saucy, I definetly suggest to players ...            None  \n",
       "25538  see people that play for 30 minutes and then s...            None  \n",
       "\n",
       "[25539 rows x 5 columns]"
      ]
     },
     "execution_count": 5,
     "metadata": {},
     "output_type": "execute_result"
    }
   ],
   "source": [
    "dataset = pd.concat([train_dataset, test_dataset], axis = 0)\n",
    "dataset.reset_index(drop = True, inplace = True)\n",
    "dataset"
   ]
  },
  {
   "cell_type": "code",
   "execution_count": 6,
   "metadata": {},
   "outputs": [],
   "source": [
    "from matplotlib import pyplot as plt\n",
    "import seaborn as sns"
   ]
  },
  {
   "cell_type": "code",
   "execution_count": 7,
   "metadata": {},
   "outputs": [
    {
     "data": {
      "text/plain": [
       "<matplotlib.axes._subplots.AxesSubplot at 0x7f2ce9230b10>"
      ]
     },
     "execution_count": 7,
     "metadata": {},
     "output_type": "execute_result"
    },
    {
     "data": {
      "image/png": "[encoded data removed]",
      "text/plain": [
       "<Figure size 720x360 with 1 Axes>"
      ]
     },
     "metadata": {
      "needs_background": "light"
     },
     "output_type": "display_data"
    }
   ],
   "source": [
    "# Visualizing the variable - 'year'\n",
    "plt.figure(figsize = (10,5))\n",
    "plt.xticks(rotation=90)\n",
    "sns.countplot(train_dataset['year'])"
   ]
  },
  {
   "cell_type": "code",
   "execution_count": 8,
   "metadata": {},
   "outputs": [],
   "source": [
    "from fastai.text import *"
   ]
  },
  {
   "cell_type": "code",
   "execution_count": 9,
   "metadata": {},
   "outputs": [],
   "source": [
    "from pathlib import Path"
   ]
  },
  {
   "cell_type": "code",
   "execution_count": 10,
   "metadata": {},
   "outputs": [],
   "source": [
    "path = Path('/kaggle/input/steam-reviews/')"
   ]
  },
  {
   "cell_type": "markdown",
   "execution_count": null,
   "metadata": {},
   "source": [
    "Data in fast.ai is taken using TextLMDataBunch. This is very similar to ImageGenerator in Keras, where the path, labels, etc. are provided and the method prepares Train, Test and Validation data depending on the task at hand!"
   ]
  },
  {
   "cell_type": "markdown",
   "execution_count": null,
   "metadata": {},
   "source": [
    "## Data Bunch for Language Model"
   ]
  },
  {
   "cell_type": "code",
   "execution_count": 11,
   "metadata": {},
   "outputs": [
    {
     "data": {
      "text/html": [],
      "text/plain": [
       "<IPython.core.display.HTML object>"
      ]
     },
     "metadata": {},
     "output_type": "display_data"
    },
    {
     "data": {
      "text/html": [],
      "text/plain": [
       "<IPython.core.display.HTML object>"
      ]
     },
     "metadata": {},
     "output_type": "display_data"
    },
    {
     "name": "stdout",
     "output_type": "stream",
     "text": [
      "CPU times: user 2.42 s, sys: 352 ms, total: 2.78 s\n",
      "Wall time: 29.5 s\n"
     ]
    }
   ],
   "source": [
    "%%time\n",
    "data_lm = TextLMDataBunch.from_csv(path,'train.csv', text_cols = 3, label_cols = 4)"
   ]
  },
  {
   "cell_type": "markdown",
   "execution_count": null,
   "metadata": {},
   "source": [
    "## Data Bunch for Classification Task"
   ]
  },
  {
   "cell_type": "code",
   "execution_count": 12,
   "metadata": {},
   "outputs": [
    {
     "data": {
      "text/html": [],
      "text/plain": [
       "<IPython.core.display.HTML object>"
      ]
     },
     "metadata": {},
     "output_type": "display_data"
    },
    {
     "data": {
      "text/html": [],
      "text/plain": [
       "<IPython.core.display.HTML object>"
      ]
     },
     "metadata": {},
     "output_type": "display_data"
    },
    {
     "name": "stdout",
     "output_type": "stream",
     "text": [
      "CPU times: user 3.51 s, sys: 361 ms, total: 3.87 s\n",
      "Wall time: 30.8 s\n"
     ]
    }
   ],
   "source": [
    "%%time\n",
    "data_clas = TextClasDataBunch.from_csv(path, 'train.csv', vocab=data_lm.train_ds.vocab, bs=32, text_cols = 3, label_cols = 4)"
   ]
  },
  {
   "cell_type": "code",
   "execution_count": 13,
   "metadata": {},
   "outputs": [
    {
     "data": {
      "text/plain": [
       "TextClasDataBunch;\n",
       "\n",
       "Train: LabelList (13995 items)\n",
       "x: TextList\n",
       "xxbos i was introduced by a former - friend and guide on this game , and i really enjoyed it . xxmaj it 's very time consuming , and i 've never been too much into xxup rpg 's , but this one was a lot of fun . 7 / 10,xxbos xxmaj if you 've ever played and enjoyed xxmaj starwars : xxmaj battlefront in your nostalgic childhood days , then planetside 2 may very well be in your ball park , and will knock several home runs to boot . xxmaj it will blow your ideas of massive scale battles in a video game out of the water , xxunk only by a few select titles . xxmaj soon upon entry you will learn that as a singular soldier your affect on the waging war is minuet at best , but your duty as an individual in a faction is as important as the people fighting by your side . planetside 2 is a game best played when working with others , or simply causing havoc with your friends . xxmaj there 's no feeling that can compare to flying well above the ground in a gunship , firing off rounds from a xxmaj xxunk - an explosive cannon - upon the unsuspecting targets below . xxmaj well co - xxunk attacks see uncountable masses of tanks rolling across the continent , much to the defender 's disdain . xxmaj the sheer scale of planetside is impressive at its worst , spectacular at its best . xxmaj being a free - to - play xxup mmo , the war never ceases . xxmaj there is a vast pool of weapons , resources and upgrades at your disposal . xxmaj station cash makes for the inevitable real - world currency of an xxup mmo , allowing you to boost your experience or purchase vanity items . xxmaj everything else can be bought with xxmaj certs , a currency that is earned through play . xxmaj in the end , the experience you have or wish to have is entirely up to you .,xxbos i 've tried a few different mmos , and normally i burn out of them pretty fast ( tab targetting etc is not very engaging ) . xxmaj with xxmaj neverwinter i find the gameplay fun enough that i have managed to level up to 64 quite pleasantly . i am a big fan of xxmaj dungeons and xxmaj dragons , so it is a lot of fun to see monsters and locations from the famous xxmaj forgotten xxmaj realms setting . xxmaj the zones are mostly pretty cool to romp around in and i find the combat fun , which is good because almost all quests are of the kill x monsters type . i have set myself up with a controller by using a key mapping software called xxunk , which is working really well and lets me chill out and play it with controller , which it is designed for in any case . 64 levels in and i 've not spent a penny , which is pretty good !,xxbos xxmaj life traverse is exceptional for forceful shooters . xxmaj hardly a month goes by without new virtual fields xxunk up and appealing you into some fresh conflict , and only a few surely understood xxunk make sense of how to oversee dynamic player bases even a year after their hidden release . xxmaj what 's more , a short time later there 's xxmaj team xxmaj fortress 2 . xxmaj released in 2007 , this class - based commendable is so far going strong particularly into its seventh year , in view of its vigorous and innovative gathering . xxmaj since xxunk 's one of a kind xxup tf2 review , the entertainment has xxunk from different upgrades and made the skip to a permitted to - play plan of activity . xxmaj the middle action pits two xxunk of players against each other in a battle to get centers , move a truck , or take an organizer case . xxmaj the objective is always xxunk clear ; it 's the exchange between the nine playable classes that makes things so varied and interesting . xxmaj the convenient scout , the xxunk generous , the xxunk pro , the xxunk specialist , the irritating xxunk , the tricky see , the feisty pyro , the shaky trooper , and the fundamentally more - risky demoman all have exceptional weapons , attributes , and limits that supplement each other and xxunk in bundle ways . xxmaj encounters can vary xxunk depending upon the match sort and the xxunk of each gathering , and this xxunk is dire to xxup tf2 's long - standing xxunk . xxmaj when you leave the door as a mind - boggling with a specialist near to , you 're a forcing unfriendly xxunk , yet if a spy hovers around to deceive the specialist and you round the corner on a pyro , it can all come xxunk in a matter of seconds . xxmaj master xxunk can cover expected foe ways , however rocket - ricocheting warriors have an ability for finding xxunk courses and raining dangerous going from above . xxmaj you may think you have an also fragile scout dead to rights , just to be xxunk by a baseball and beat the life out of . xxmaj as you watch your giblets splatter on the ground and see a quit xxunk of your cheerful killer , it 's hard not to chuckle at the sheer grouping of ways you can meet an unfavorable end . xxmaj besides , engaging jokes , insane outfits , and sensational host build up this sprightly tone . xxmaj clearly , this inside component has endured for by far most of xxup tf2 's future , so if you quit playing it two or three years earlier and return for a couple matches , you 'll find things are to a great degree surely understood . xxmaj taking in the ropes and getting the hang of your picked part is still a delightful information , and acing pushed frameworks does n't just make you deadlier ; it gives you more options for how to approach fight . xxmaj keeping your choices open is still xxunk too , in light of the way that being versatile with your choice of character can help you refrain from ending up on a xxunk imbalanced squad . xxmaj it is xxmaj team xxmaj fortress , taking all things into account . xxmaj regardless , however there is much that has stayed steady about the inside redirection , there have been some noticeable changes consistently , and moreover ordinary xxunk of new weapons and things . xxmaj of the few things available in the online store , some can be opened through play , while others must be acquired with genuine money . xxmaj from little xxunk that cost not precisely a dollar to huge packs that cost hundreds , there 's a broad assortment of ways to deal with adjust your experience . xxmaj some of the things offer just a vigorous twist on the entertainment 's starting now xxunk toon snappy . xxmaj you can buy tops , shirts , shoes , and other xxunk gear to xxunk up like a character from xxmaj adult xxmaj swim or wear spooky xxunk xxunk that you can wear just in the midst of xxmaj halloween or a full moon . xxmaj notwithstanding the likelihood that you do n't support spending for any of this stuff , it 's diverting to see some visual grouping as you endeavor to light your adversaries on fire . xxmaj the best difference from the redirection 's beginnings comes in the accommodating mode , xxmaj mann versus xxmaj machine . xxmaj in it , you and a few other human players must maintain a strategic distance from swarms of xxunk incarnations of xxup tf2 's classes from passing on a bomb to your base . xxmaj the money you pick up from xxunk robots can be spent on mid - organize climbs to your qualities and weaponry , which can be essential to accomplishment . xxmaj for sure , even on the most easy level , the robot armed forces are adequately wild to test the guts of a messy gathering . xxmaj this is a mode where absolutely xxunk weapon choices and defensive frameworks can mean the xxunk among succeeding and attempting , endeavor xxunk . xxmaj you can play this mode to no end , yet you wo n't be met all requirements to increase exceptional prizes or complete difficulties unless you pay a dollar for a xxmaj tour of xxmaj duty ticket . xxmaj notwithstanding the way that it does n't have the xxunk xxunk of centered play , the supportive mode can even now offer satisfaction to those adequately committed to see it through . xxmaj however , xxunk is the honest to goodness draw , and the xxmaj team xxmaj fortress 2 gathering can completely be engaged . xxmaj on a couple of servers , you might be scolded for xxunk cracks of xxunk , while on others , you might be welcomed with pleasing tips and xxunk . xxmaj you can even demand help on particular servers and be xxunk with another player why ought to willing give you a couple tips through talk . xxmaj the society around xxup tf2 is a charming one , not just for their significant learning of and vitality for the delight , yet for their imaginative attempts in arranging new weapons , things , and maps that have since ended up being a bit of the experience . xxmaj it feels like a gathering of managers , without whom the delight may well have dwindled away and gone into obsolete nature years earlier . xxmaj staying imperative even a year after release is extraordinary for an engaged shooter , yet , here 's xxmaj team xxmaj fortress 2 , still xxunk after seven years in the business . xxmaj every so often it feels like comparable diversion you could have played back then , and at various times it feels like no one will ever extremely nail class - based shooter competition the way xxup tf2 does . xxmaj the experience has created during the time without exchanging off what made it so extraordinary regardless , so however your permitted to - play choices may have extended altogether in the past couple of years , there are few that do it furthermore xxmaj team xxmaj fortress xxunk reviews are retrieved from the xxmaj internet and xxunk through a succession of xxunk tools three times both for humour and to save time . xxmaj in my religion , this is known as xxunk ) , but you can call it \" xxmaj xxunk \" ),xxbos i was excited about this game on steam . xxmaj free to play and all , awesome . i had played this back when if was first released on my phone , and i enjoyed it . xxmaj it had a short life back then , but it was good . xxmaj that being said , i still enjoy it , but with one small issue that has ruined it for me . xxmaj radscorpions . xxmaj they are so op that it makes the game not as fun , and more frustrating . i end up rushing a room , and getting one of those little b xxrep 5 * ds . xxmaj they drain my energy below xxunk , which renders my xxunk rooms un - capable of producing anything . xxmaj they have very hard to kill , they move randomly . i usually end up with 4 - 5 dead dwellers . xxmaj after the attack i am usually out of xxmaj xxunk . xxmaj so i have to rush rooms just to gain back enough energy to keep my dwellers alive , and i get another xxunk xxmaj radscorpion . xxmaj maybe introduce them later into the game , when at least all my dwellers have weapons ? xxmaj but as of right now , i wo n't be playing for awhile . i am annoyed and frustrated . xxmaj otherwise , i do like the updates , the missions are cool . xxmaj the new rooms are fun . xxmaj being able to build weapons and outfits gives the game depth . xxmaj if they made xxunk less powerful and random , i will come back , until then xxunk .\n",
       "y: CategoryList\n",
       "1,1,1,1,0\n",
       "Path: /kaggle/input/steam-reviews;\n",
       "\n",
       "Valid: LabelList (3499 items)\n",
       "x: TextList\n",
       "xxbos xxmaj pros : xxmaj great art xxunk xxunk simple to learn : the more you play , the better you xxunk and legends somewhat well balanced ( it was for a long time , at the time of this review some patches just changed the meta but i 'm sure it 'll be xxunk economic system : entierly free to play , the game relies on people buying skins ( same as xxmaj league of xxunk : xxmaj matchmaking needs to be re - xxunk you have low internet speed , you ca n't play xxunk - of - game chat is a xxunk , the game is awesome , but the multiplayer system around it needs some work .,xxbos xxmaj early xxmaj access reviewthis game is absolutely amazing . xxmaj it 's my most played game and i enjoy playing all day everyday . xxmaj brawlhalla is rather polished for something still in the beta - ish stages , obviously needing more updates to further increase it 's general greatness . xxmaj i'm a diamond player and really enjoy playing with my xxunk definitely recommend this to anyone wanting a game to have there on the side at the cost of nothing ( although i ve spent about $ xxunk xxup xxunk on cosmetics xd ) it is definitely the best free to play small little game in my xxunk problem however i commonly encounter is the somewhat toxic community , yes there are really friendly people but most of the time people tend to say something nasty if you win or loose regardless , i guess that 's just what happens with these types of games : alot of salty players . xxmaj other than that . legendary game for all i 'd say . but of course if you 're not into this sort of game then obviously you would n't like it : xxunk for me , i 'm a 2v2 competitive player ranking # 1 aus and top 30 xxunk several times throughout seasons 1 - 6 , however casual play is just as fun if you want to create your own mini - rules , which i have personally experienced before . xxmaj try doing xxmaj no sigs , only sigs , or just playing your worst legends with some friends , xxmaj brawlhalla is not limited to the conventional fighting , you can even xxunk some bots ! : dedit : i would like to say that i 'm doing this edit as of now to get my badge for the steam autumn sales and whatnot , however i did nominate it for the \" no apologies \" award as i feel many people feel negatively about this game ( possible because of their lack of skill xxup ;d ) and i would like to say xxunk that i still love the game although i have nt played a whole lot in general across the recent months .,xxbos xxmaj infestation | xxmaj the xxunk you read , i would like to say that i have over 300 hours on this game before steam release . xxmaj infestation | xxmaj the newz , is an official rework of the original ( and bad ) title xxmaj infestation | xxmaj survivor xxmaj stores , formerly known as xxmaj the warz , xxmaj the newz is being worked on by a whole new development team called xxmaj fredaikis xxup ab , xxmaj there is not a single dev from the original xxup iss on this development team . xxmaj everyone knows xxmaj the warz and how bad the game was . xxmaj it was riddled with hackers , xxmaj it was xxup seriously pay to win , loot was rare , so it made hackers even more populated , xxmaj it was full of bugs that devs did not patch , and lets be honest ... there was no content . xxmaj all there was to do is xxunk ... on the other hand , xxmaj fredaikis xxup ab , the team behind this game have been doing a great job in correcting the errors that the past development team did , xxmaj they are listening to the community , and trying their best to make a game that you guys want . xxmaj they have released an anticheat called xxup mlg anticheat , xxup this anticheat was designed xxup just for this game , i have over 300 hours before steam and i have only got cheated xxup once . i repeat xxunk to the lack of content the previous game had , they made about 10 different xxup pvp server maps , so you can hop into it and xxup pvp right away , they made a custom xxup br , xxmaj they added airdrops , ( these drop about every hour ) on official servers , xxmaj they have revamped the xxup ui , they have added xxup alot of guns that the original xxup iss did not have . and armor , helmets etc . xxup and xxup they xxup added xxup skins <3 xxmaj traders dream ! xxmaj they have completely removed the xxmaj pay 2 win aspect of the game , now all you have to do is kill zombies and players and you can buy every single thing in the market . xxmaj they have not removed ( xxup gc ) xxmaj gold credits , you can use this to purchase a private server to loot , or to buy premium and buy skins in the market place . xxup this xxup is xxup just xxup to xxup support xxup this xxup game xxup and xxup keep xxup it xxunk of you guys need to understand , they need to have a few things they can make money off of . a game is not free , they need some sort of money to pay for all of their servers that 10,000 people are playing on .,xxbos i have never considered giving this game anything but praise until now . xxmaj now i 'm voting with my review to try and urge valve to bring back quickplay and casual pubs into the game . xxmaj not this xxrep 6 ♥ overwatch / any - xxunk xxrep 4 ♥ ing - shooter lobby based queueing xxrep 7 ♥ t. i do n't give a xxrep 4 ♥ how low the queue times are it still takes up to two minutes between games just for server connection . i used to only have to do that after literal hours of fun on whatever map i chose . xxmaj good players , bad players , tryhards , friendlies . xxmaj all together . xxmaj all having fun on whatever map they wanted . xxmaj in whatever region they wanted , for as long as they wanted without any queueing or connecting . xxmaj this change is utter insanity . xxmaj everyone was excited about matchmaking but i doubt a single person was hoping they would replace the xxup entire game with it . xxmaj for xxup years xxunk has been my favorite activity . xxmaj the only thing in my life that guaranteed fun and an escape from xxrep 7 ♥ t. i xxunk when i was happy , sad , lonely or with friends laughing and having fun . xxmaj this game is the most important activity is my life and has been since i started playing 5 years ago . xxmaj pubs have always been my place to just go and be free and have fun without a worry or care beyond that tryhard soldier i 'm trying to stop from dominating me , or the free to play xxunk that crit me to death with his wrench . xxmaj this game can be very competitive and i enjoy that aspect , but above all else it is fun . xxmaj it has to stay fun . xxmaj please xxmaj valve . xxmaj please give us back the best part of this game .,xxbos xxmaj hmm well this game is xxunk bad or good depending what you 're looking for . xxmaj social experience , lacking but present , community is nice but absent minded , questing is solo - oriented but there is group quests as well , xxmaj zen market where you buy stuff is rediculously overpriced no one would buy anything from there unless a steep , steep , very steep incentive / sale was on , however most anything you need can be bought with diamonds / gold ; there 's a lack of ingame xxunk that must be overcome by strong inventory management from the get - xxunk becomes less annoying once you learn what to sell / keep / stack ) not to mention this is an xxup mmo and its a xxunk version of that ( you can play this game even the xxup pc version with a controller using xxmaj xpadder xxunk software and it works great really smooth actually no complaints there - its sad the lazy developers have n't offered this yet to the xxup pc hardcore fans that do n't know how to setup xxmaj xpadder on their own ) which caters to xxunk button configurations etc . so its easy to pick up and play . xxmaj would i suggest caution on spending money on this game ? xxmaj in the xxup zen store for example ? xxmaj yes . xxmaj the prices are inflated and you do n't get much value there . xxmaj pathetic really . xxmaj it puts the developer in a bad light , prices are so high no one can understand xxunk motive except to cater to a certain xxunk meanwhile no one plays the game because those that would pay a small $ 10 or $ 20 in the xxmaj zen store are discouraged because believe it or not , that wo n't buy you xxrep 6 ♥ for this game . xxmaj we 're talking hundreds of dollers to get anything worthwhile . xxmaj pathetic . xxmaj the developers are out of tough , its all i can think of to say . i think they are completely wrong in their approach . xxmaj stay away from the xxmaj zen store . xxmaj that said , you can play at least 2 character slots for free , the quests are well designed , most everything is voiced over , its an xxup mmo so there 's tons to do from crafting to questing , to pvp to dungeon crawling its all here etc . xxmaj you can play the game entirely for free and there 's a bunch of cool classes but you 're limited by 2 character slots unless you pay 300 xxmaj zen for another ( that s a rediculous cost ) so yea except for that its all good here . xxmaj if you want to pick up and play and have fun with some xxup d&d you can do so in a variety of ways no issues here . xxmaj its the overall structure of the game that suffers ( forcing you to spend money in the xxmaj zen store but really you do n't have to but you could its what 's backward here there is little xxunk between free and paid ) . xxmaj do i recommend this game ? xxmaj sure , the strong graphics , sound , action - oriented combat ( its like xxmaj xxunk of xxmaj xxunk without the blocking mechanic or xxup gw2 ) its fine and deep skill trees , the xxup d&d settings and ruleset , the variety of character classes however the xxmaj zen store and marketing scheme of this game is xxup bad so you must choose caution here . xxmaj xxunk community pressure will change their approach , but for now you put up with it . xxmaj you can play this game completely free , its worth a play through at least . xxmaj how it lasts or endgame ? xxmaj well lets just say they 're working on that . xxmaj its a thumbs up for now but i might change my mind in the future . xxmaj so far hours of free fun , i 've spent no money on this game and my experience has not suffered all that much though i think it is somewhat a pay - to - win structure .\n",
       "y: CategoryList\n",
       "1,1,1,0,1\n",
       "Path: /kaggle/input/steam-reviews;\n",
       "\n",
       "Test: None"
      ]
     },
     "execution_count": 13,
     "metadata": {},
     "output_type": "execute_result"
    }
   ],
   "source": [
    "data_clas"
   ]
  },
  {
   "cell_type": "code",
   "execution_count": 14,
   "metadata": {},
   "outputs": [],
   "source": [
    "bs=16"
   ]
  },
  {
   "cell_type": "code",
   "execution_count": 15,
   "metadata": {},
   "outputs": [],
   "source": [
    "#torch.cuda.set_device(1)\n",
    "#torch.cuda.set_device(0)"
   ]
  },
  {
   "cell_type": "markdown",
   "execution_count": null,
   "metadata": {},
   "source": [
    "### Step 1. Training a Language Model"
   ]
  },
  {
   "cell_type": "code",
   "execution_count": 16,
   "metadata": {},
   "outputs": [
    {
     "name": "stdout",
     "output_type": "stream",
     "text": [
      "Downloading https://s3.amazonaws.com/fast-ai-modelzoo/wt103-fwd.tgz\n"
     ]
    },
    {
     "data": {
      "text/html": [],
      "text/plain": [
       "<IPython.core.display.HTML object>"
      ]
     },
     "metadata": {},
     "output_type": "display_data"
    }
   ],
   "source": [
    "learn = language_model_learner(data_lm, AWD_LSTM, drop_mult=0.5)"
   ]
  },
  {
   "cell_type": "code",
   "execution_count": 17,
   "metadata": {},
   "outputs": [
    {
     "data": {
      "text/html": [
       "<table border=\"1\" class=\"dataframe\">\n",
       "  <thead>\n",
       "    <tr style=\"text-align: left;\">\n",
       "      <th>epoch</th>\n",
       "      <th>train_loss</th>\n",
       "      <th>valid_loss</th>\n",
       "      <th>accuracy</th>\n",
       "      <th>time</th>\n",
       "    </tr>\n",
       "  </thead>\n",
       "  <tbody>\n",
       "    <tr>\n",
       "      <td>0</td>\n",
       "      <td>4.298730</td>\n",
       "      <td>4.067280</td>\n",
       "      <td>0.267849</td>\n",
       "      <td>01:20</td>\n",
       "    </tr>\n",
       "  </tbody>\n",
       "</table>"
      ],
      "text/plain": [
       "<IPython.core.display.HTML object>"
      ]
     },
     "metadata": {},
     "output_type": "display_data"
    }
   ],
   "source": [
    "learn.fit_one_cycle(1, 1e-2)"
   ]
  },
  {
   "cell_type": "markdown",
   "execution_count": null,
   "metadata": {},
   "source": [
    "### Discrimiative Fine-Tuning"
   ]
  },
  {
   "cell_type": "markdown",
   "execution_count": null,
   "metadata": {},
   "source": [
    "*learn.unfreeze()* makes all the layers of AWD_LSTM trainable. We can set a training rate using slice() function, which trains the last layer at 1e-02, while groups (of layers) in between would have geometrically reducing learning rates."
   ]
  },
  {
   "cell_type": "markdown",
   "execution_count": null,
   "metadata": {},
   "source": [
    "### Slated Triangular Learning Rates"
   ]
  },
  {
   "cell_type": "markdown",
   "execution_count": null,
   "metadata": {},
   "source": [
    "This can achieved simply by using fit_one_cycle() method in fast.ai"
   ]
  },
  {
   "cell_type": "markdown",
   "execution_count": null,
   "metadata": {},
   "source": []
  },
  {
   "cell_type": "markdown",
   "execution_count": null,
   "metadata": {},
   "source": [
    "### Gradual Unfreezing"
   ]
  },
  {
   "cell_type": "markdown",
   "execution_count": null,
   "metadata": {},
   "source": [
    "Though I've not experimented with this here, the idea is pretty simple. In the start we keep the initial layers of model as un-trainable, and then we slowly unfreeze earlier layers, as we keep on training. I'll cover this in detail in next post"
   ]
  },
  {
   "cell_type": "code",
   "execution_count": 18,
   "metadata": {},
   "outputs": [
    {
     "data": {
      "text/html": [
       "<table border=\"1\" class=\"dataframe\">\n",
       "  <thead>\n",
       "    <tr style=\"text-align: left;\">\n",
       "      <th>epoch</th>\n",
       "      <th>train_loss</th>\n",
       "      <th>valid_loss</th>\n",
       "      <th>accuracy</th>\n",
       "      <th>time</th>\n",
       "    </tr>\n",
       "  </thead>\n",
       "  <tbody>\n",
       "    <tr>\n",
       "      <td>0</td>\n",
       "      <td>4.069969</td>\n",
       "      <td>3.966954</td>\n",
       "      <td>0.278658</td>\n",
       "      <td>01:35</td>\n",
       "    </tr>\n",
       "    <tr>\n",
       "      <td>1</td>\n",
       "      <td>3.847313</td>\n",
       "      <td>3.836698</td>\n",
       "      <td>0.291688</td>\n",
       "      <td>01:35</td>\n",
       "    </tr>\n",
       "    <tr>\n",
       "      <td>2</td>\n",
       "      <td>3.581468</td>\n",
       "      <td>3.808362</td>\n",
       "      <td>0.296066</td>\n",
       "      <td>01:35</td>\n",
       "    </tr>\n",
       "  </tbody>\n",
       "</table>"
      ],
      "text/plain": [
       "<IPython.core.display.HTML object>"
      ]
     },
     "metadata": {},
     "output_type": "display_data"
    }
   ],
   "source": [
    "learn.unfreeze()\n",
    "learn.fit_one_cycle(3, slice(1e-4,1e-2))"
   ]
  },
  {
   "cell_type": "code",
   "execution_count": 19,
   "metadata": {},
   "outputs": [
    {
     "data": {
      "text/plain": [
       "'This is a review about the Game ..... You probably go'"
      ]
     },
     "execution_count": 19,
     "metadata": {},
     "output_type": "execute_result"
    }
   ],
   "source": [
    "learn.predict(\"This is a review about\", n_words=10)"
   ]
  },
  {
   "cell_type": "code",
   "execution_count": 20,
   "metadata": {},
   "outputs": [
    {
     "data": {
      "text/plain": [
       "\"This game is one of the  worst ♥♥♥♥♥ gamesgamesgamesgamesgames iiiii 've've've've've evereverevereverever playedplayedplayedplayedplayed .....\""
      ]
     },
     "execution_count": 20,
     "metadata": {},
     "output_type": "execute_result"
    }
   ],
   "source": [
    "learn.predict(\"This game is one of the \", n_words=10)"
   ]
  },
  {
   "cell_type": "markdown",
   "execution_count": null,
   "metadata": {},
   "source": [
    "This performs pretty well in predicting the next few words of the review. Time to save this and try it on our classification task."
   ]
  },
  {
   "cell_type": "code",
   "execution_count": 21,
   "metadata": {},
   "outputs": [],
   "source": [
    "learn.model_dir = Path('/kaggle/working/')"
   ]
  },
  {
   "cell_type": "code",
   "execution_count": 22,
   "metadata": {},
   "outputs": [],
   "source": [
    "learn.save(file = Path('language_model'))\n",
    "learn.save_encoder(Path('language_model_encoder'))"
   ]
  },
  {
   "cell_type": "markdown",
   "execution_count": null,
   "metadata": {},
   "source": [
    "### Step 2. Classification Task using Language Model as encoder"
   ]
  },
  {
   "cell_type": "code",
   "execution_count": 23,
   "metadata": {},
   "outputs": [
    {
     "data": {
      "text/plain": [
       "RNNLearner(data=TextClasDataBunch;\n",
       "\n",
       "Train: LabelList (13995 items)\n",
       "x: TextList\n",
       "xxbos i was introduced by a former - friend and guide on this game , and i really enjoyed it . xxmaj it 's very time consuming , and i 've never been too much into xxup rpg 's , but this one was a lot of fun . 7 / 10,xxbos xxmaj if you 've ever played and enjoyed xxmaj starwars : xxmaj battlefront in your nostalgic childhood days , then planetside 2 may very well be in your ball park , and will knock several home runs to boot . xxmaj it will blow your ideas of massive scale battles in a video game out of the water , xxunk only by a few select titles . xxmaj soon upon entry you will learn that as a singular soldier your affect on the waging war is minuet at best , but your duty as an individual in a faction is as important as the people fighting by your side . planetside 2 is a game best played when working with others , or simply causing havoc with your friends . xxmaj there 's no feeling that can compare to flying well above the ground in a gunship , firing off rounds from a xxmaj xxunk - an explosive cannon - upon the unsuspecting targets below . xxmaj well co - xxunk attacks see uncountable masses of tanks rolling across the continent , much to the defender 's disdain . xxmaj the sheer scale of planetside is impressive at its worst , spectacular at its best . xxmaj being a free - to - play xxup mmo , the war never ceases . xxmaj there is a vast pool of weapons , resources and upgrades at your disposal . xxmaj station cash makes for the inevitable real - world currency of an xxup mmo , allowing you to boost your experience or purchase vanity items . xxmaj everything else can be bought with xxmaj certs , a currency that is earned through play . xxmaj in the end , the experience you have or wish to have is entirely up to you .,xxbos i 've tried a few different mmos , and normally i burn out of them pretty fast ( tab targetting etc is not very engaging ) . xxmaj with xxmaj neverwinter i find the gameplay fun enough that i have managed to level up to 64 quite pleasantly . i am a big fan of xxmaj dungeons and xxmaj dragons , so it is a lot of fun to see monsters and locations from the famous xxmaj forgotten xxmaj realms setting . xxmaj the zones are mostly pretty cool to romp around in and i find the combat fun , which is good because almost all quests are of the kill x monsters type . i have set myself up with a controller by using a key mapping software called xxunk , which is working really well and lets me chill out and play it with controller , which it is designed for in any case . 64 levels in and i 've not spent a penny , which is pretty good !,xxbos xxmaj life traverse is exceptional for forceful shooters . xxmaj hardly a month goes by without new virtual fields xxunk up and appealing you into some fresh conflict , and only a few surely understood xxunk make sense of how to oversee dynamic player bases even a year after their hidden release . xxmaj what 's more , a short time later there 's xxmaj team xxmaj fortress 2 . xxmaj released in 2007 , this class - based commendable is so far going strong particularly into its seventh year , in view of its vigorous and innovative gathering . xxmaj since xxunk 's one of a kind xxup tf2 review , the entertainment has xxunk from different upgrades and made the skip to a permitted to - play plan of activity . xxmaj the middle action pits two xxunk of players against each other in a battle to get centers , move a truck , or take an organizer case . xxmaj the objective is always xxunk clear ; it 's the exchange between the nine playable classes that makes things so varied and interesting . xxmaj the convenient scout , the xxunk generous , the xxunk pro , the xxunk specialist , the irritating xxunk , the tricky see , the feisty pyro , the shaky trooper , and the fundamentally more - risky demoman all have exceptional weapons , attributes , and limits that supplement each other and xxunk in bundle ways . xxmaj encounters can vary xxunk depending upon the match sort and the xxunk of each gathering , and this xxunk is dire to xxup tf2 's long - standing xxunk . xxmaj when you leave the door as a mind - boggling with a specialist near to , you 're a forcing unfriendly xxunk , yet if a spy hovers around to deceive the specialist and you round the corner on a pyro , it can all come xxunk in a matter of seconds . xxmaj master xxunk can cover expected foe ways , however rocket - ricocheting warriors have an ability for finding xxunk courses and raining dangerous going from above . xxmaj you may think you have an also fragile scout dead to rights , just to be xxunk by a baseball and beat the life out of . xxmaj as you watch your giblets splatter on the ground and see a quit xxunk of your cheerful killer , it 's hard not to chuckle at the sheer grouping of ways you can meet an unfavorable end . xxmaj besides , engaging jokes , insane outfits , and sensational host build up this sprightly tone . xxmaj clearly , this inside component has endured for by far most of xxup tf2 's future , so if you quit playing it two or three years earlier and return for a couple matches , you 'll find things are to a great degree surely understood . xxmaj taking in the ropes and getting the hang of your picked part is still a delightful information , and acing pushed frameworks does n't just make you deadlier ; it gives you more options for how to approach fight . xxmaj keeping your choices open is still xxunk too , in light of the way that being versatile with your choice of character can help you refrain from ending up on a xxunk imbalanced squad . xxmaj it is xxmaj team xxmaj fortress , taking all things into account . xxmaj regardless , however there is much that has stayed steady about the inside redirection , there have been some noticeable changes consistently , and moreover ordinary xxunk of new weapons and things . xxmaj of the few things available in the online store , some can be opened through play , while others must be acquired with genuine money . xxmaj from little xxunk that cost not precisely a dollar to huge packs that cost hundreds , there 's a broad assortment of ways to deal with adjust your experience . xxmaj some of the things offer just a vigorous twist on the entertainment 's starting now xxunk toon snappy . xxmaj you can buy tops , shirts , shoes , and other xxunk gear to xxunk up like a character from xxmaj adult xxmaj swim or wear spooky xxunk xxunk that you can wear just in the midst of xxmaj halloween or a full moon . xxmaj notwithstanding the likelihood that you do n't support spending for any of this stuff , it 's diverting to see some visual grouping as you endeavor to light your adversaries on fire . xxmaj the best difference from the redirection 's beginnings comes in the accommodating mode , xxmaj mann versus xxmaj machine . xxmaj in it , you and a few other human players must maintain a strategic distance from swarms of xxunk incarnations of xxup tf2 's classes from passing on a bomb to your base . xxmaj the money you pick up from xxunk robots can be spent on mid - organize climbs to your qualities and weaponry , which can be essential to accomplishment . xxmaj for sure , even on the most easy level , the robot armed forces are adequately wild to test the guts of a messy gathering . xxmaj this is a mode where absolutely xxunk weapon choices and defensive frameworks can mean the xxunk among succeeding and attempting , endeavor xxunk . xxmaj you can play this mode to no end , yet you wo n't be met all requirements to increase exceptional prizes or complete difficulties unless you pay a dollar for a xxmaj tour of xxmaj duty ticket . xxmaj notwithstanding the way that it does n't have the xxunk xxunk of centered play , the supportive mode can even now offer satisfaction to those adequately committed to see it through . xxmaj however , xxunk is the honest to goodness draw , and the xxmaj team xxmaj fortress 2 gathering can completely be engaged . xxmaj on a couple of servers , you might be scolded for xxunk cracks of xxunk , while on others , you might be welcomed with pleasing tips and xxunk . xxmaj you can even demand help on particular servers and be xxunk with another player why ought to willing give you a couple tips through talk . xxmaj the society around xxup tf2 is a charming one , not just for their significant learning of and vitality for the delight , yet for their imaginative attempts in arranging new weapons , things , and maps that have since ended up being a bit of the experience . xxmaj it feels like a gathering of managers , without whom the delight may well have dwindled away and gone into obsolete nature years earlier . xxmaj staying imperative even a year after release is extraordinary for an engaged shooter , yet , here 's xxmaj team xxmaj fortress 2 , still xxunk after seven years in the business . xxmaj every so often it feels like comparable diversion you could have played back then , and at various times it feels like no one will ever extremely nail class - based shooter competition the way xxup tf2 does . xxmaj the experience has created during the time without exchanging off what made it so extraordinary regardless , so however your permitted to - play choices may have extended altogether in the past couple of years , there are few that do it furthermore xxmaj team xxmaj fortress xxunk reviews are retrieved from the xxmaj internet and xxunk through a succession of xxunk tools three times both for humour and to save time . xxmaj in my religion , this is known as xxunk ) , but you can call it \" xxmaj xxunk \" ),xxbos i was excited about this game on steam . xxmaj free to play and all , awesome . i had played this back when if was first released on my phone , and i enjoyed it . xxmaj it had a short life back then , but it was good . xxmaj that being said , i still enjoy it , but with one small issue that has ruined it for me . xxmaj radscorpions . xxmaj they are so op that it makes the game not as fun , and more frustrating . i end up rushing a room , and getting one of those little b xxrep 5 * ds . xxmaj they drain my energy below xxunk , which renders my xxunk rooms un - capable of producing anything . xxmaj they have very hard to kill , they move randomly . i usually end up with 4 - 5 dead dwellers . xxmaj after the attack i am usually out of xxmaj xxunk . xxmaj so i have to rush rooms just to gain back enough energy to keep my dwellers alive , and i get another xxunk xxmaj radscorpion . xxmaj maybe introduce them later into the game , when at least all my dwellers have weapons ? xxmaj but as of right now , i wo n't be playing for awhile . i am annoyed and frustrated . xxmaj otherwise , i do like the updates , the missions are cool . xxmaj the new rooms are fun . xxmaj being able to build weapons and outfits gives the game depth . xxmaj if they made xxunk less powerful and random , i will come back , until then xxunk .\n",
       "y: CategoryList\n",
       "1,1,1,1,0\n",
       "Path: /kaggle/input/steam-reviews;\n",
       "\n",
       "Valid: LabelList (3499 items)\n",
       "x: TextList\n",
       "xxbos xxmaj pros : xxmaj great art xxunk xxunk simple to learn : the more you play , the better you xxunk and legends somewhat well balanced ( it was for a long time , at the time of this review some patches just changed the meta but i 'm sure it 'll be xxunk economic system : entierly free to play , the game relies on people buying skins ( same as xxmaj league of xxunk : xxmaj matchmaking needs to be re - xxunk you have low internet speed , you ca n't play xxunk - of - game chat is a xxunk , the game is awesome , but the multiplayer system around it needs some work .,xxbos xxmaj early xxmaj access reviewthis game is absolutely amazing . xxmaj it 's my most played game and i enjoy playing all day everyday . xxmaj brawlhalla is rather polished for something still in the beta - ish stages , obviously needing more updates to further increase it 's general greatness . xxmaj i'm a diamond player and really enjoy playing with my xxunk definitely recommend this to anyone wanting a game to have there on the side at the cost of nothing ( although i ve spent about $ xxunk xxup xxunk on cosmetics xd ) it is definitely the best free to play small little game in my xxunk problem however i commonly encounter is the somewhat toxic community , yes there are really friendly people but most of the time people tend to say something nasty if you win or loose regardless , i guess that 's just what happens with these types of games : alot of salty players . xxmaj other than that . legendary game for all i 'd say . but of course if you 're not into this sort of game then obviously you would n't like it : xxunk for me , i 'm a 2v2 competitive player ranking # 1 aus and top 30 xxunk several times throughout seasons 1 - 6 , however casual play is just as fun if you want to create your own mini - rules , which i have personally experienced before . xxmaj try doing xxmaj no sigs , only sigs , or just playing your worst legends with some friends , xxmaj brawlhalla is not limited to the conventional fighting , you can even xxunk some bots ! : dedit : i would like to say that i 'm doing this edit as of now to get my badge for the steam autumn sales and whatnot , however i did nominate it for the \" no apologies \" award as i feel many people feel negatively about this game ( possible because of their lack of skill xxup ;d ) and i would like to say xxunk that i still love the game although i have nt played a whole lot in general across the recent months .,xxbos xxmaj infestation | xxmaj the xxunk you read , i would like to say that i have over 300 hours on this game before steam release . xxmaj infestation | xxmaj the newz , is an official rework of the original ( and bad ) title xxmaj infestation | xxmaj survivor xxmaj stores , formerly known as xxmaj the warz , xxmaj the newz is being worked on by a whole new development team called xxmaj fredaikis xxup ab , xxmaj there is not a single dev from the original xxup iss on this development team . xxmaj everyone knows xxmaj the warz and how bad the game was . xxmaj it was riddled with hackers , xxmaj it was xxup seriously pay to win , loot was rare , so it made hackers even more populated , xxmaj it was full of bugs that devs did not patch , and lets be honest ... there was no content . xxmaj all there was to do is xxunk ... on the other hand , xxmaj fredaikis xxup ab , the team behind this game have been doing a great job in correcting the errors that the past development team did , xxmaj they are listening to the community , and trying their best to make a game that you guys want . xxmaj they have released an anticheat called xxup mlg anticheat , xxup this anticheat was designed xxup just for this game , i have over 300 hours before steam and i have only got cheated xxup once . i repeat xxunk to the lack of content the previous game had , they made about 10 different xxup pvp server maps , so you can hop into it and xxup pvp right away , they made a custom xxup br , xxmaj they added airdrops , ( these drop about every hour ) on official servers , xxmaj they have revamped the xxup ui , they have added xxup alot of guns that the original xxup iss did not have . and armor , helmets etc . xxup and xxup they xxup added xxup skins <3 xxmaj traders dream ! xxmaj they have completely removed the xxmaj pay 2 win aspect of the game , now all you have to do is kill zombies and players and you can buy every single thing in the market . xxmaj they have not removed ( xxup gc ) xxmaj gold credits , you can use this to purchase a private server to loot , or to buy premium and buy skins in the market place . xxup this xxup is xxup just xxup to xxup support xxup this xxup game xxup and xxup keep xxup it xxunk of you guys need to understand , they need to have a few things they can make money off of . a game is not free , they need some sort of money to pay for all of their servers that 10,000 people are playing on .,xxbos i have never considered giving this game anything but praise until now . xxmaj now i 'm voting with my review to try and urge valve to bring back quickplay and casual pubs into the game . xxmaj not this xxrep 6 ♥ overwatch / any - xxunk xxrep 4 ♥ ing - shooter lobby based queueing xxrep 7 ♥ t. i do n't give a xxrep 4 ♥ how low the queue times are it still takes up to two minutes between games just for server connection . i used to only have to do that after literal hours of fun on whatever map i chose . xxmaj good players , bad players , tryhards , friendlies . xxmaj all together . xxmaj all having fun on whatever map they wanted . xxmaj in whatever region they wanted , for as long as they wanted without any queueing or connecting . xxmaj this change is utter insanity . xxmaj everyone was excited about matchmaking but i doubt a single person was hoping they would replace the xxup entire game with it . xxmaj for xxup years xxunk has been my favorite activity . xxmaj the only thing in my life that guaranteed fun and an escape from xxrep 7 ♥ t. i xxunk when i was happy , sad , lonely or with friends laughing and having fun . xxmaj this game is the most important activity is my life and has been since i started playing 5 years ago . xxmaj pubs have always been my place to just go and be free and have fun without a worry or care beyond that tryhard soldier i 'm trying to stop from dominating me , or the free to play xxunk that crit me to death with his wrench . xxmaj this game can be very competitive and i enjoy that aspect , but above all else it is fun . xxmaj it has to stay fun . xxmaj please xxmaj valve . xxmaj please give us back the best part of this game .,xxbos xxmaj hmm well this game is xxunk bad or good depending what you 're looking for . xxmaj social experience , lacking but present , community is nice but absent minded , questing is solo - oriented but there is group quests as well , xxmaj zen market where you buy stuff is rediculously overpriced no one would buy anything from there unless a steep , steep , very steep incentive / sale was on , however most anything you need can be bought with diamonds / gold ; there 's a lack of ingame xxunk that must be overcome by strong inventory management from the get - xxunk becomes less annoying once you learn what to sell / keep / stack ) not to mention this is an xxup mmo and its a xxunk version of that ( you can play this game even the xxup pc version with a controller using xxmaj xpadder xxunk software and it works great really smooth actually no complaints there - its sad the lazy developers have n't offered this yet to the xxup pc hardcore fans that do n't know how to setup xxmaj xpadder on their own ) which caters to xxunk button configurations etc . so its easy to pick up and play . xxmaj would i suggest caution on spending money on this game ? xxmaj in the xxup zen store for example ? xxmaj yes . xxmaj the prices are inflated and you do n't get much value there . xxmaj pathetic really . xxmaj it puts the developer in a bad light , prices are so high no one can understand xxunk motive except to cater to a certain xxunk meanwhile no one plays the game because those that would pay a small $ 10 or $ 20 in the xxmaj zen store are discouraged because believe it or not , that wo n't buy you xxrep 6 ♥ for this game . xxmaj we 're talking hundreds of dollers to get anything worthwhile . xxmaj pathetic . xxmaj the developers are out of tough , its all i can think of to say . i think they are completely wrong in their approach . xxmaj stay away from the xxmaj zen store . xxmaj that said , you can play at least 2 character slots for free , the quests are well designed , most everything is voiced over , its an xxup mmo so there 's tons to do from crafting to questing , to pvp to dungeon crawling its all here etc . xxmaj you can play the game entirely for free and there 's a bunch of cool classes but you 're limited by 2 character slots unless you pay 300 xxmaj zen for another ( that s a rediculous cost ) so yea except for that its all good here . xxmaj if you want to pick up and play and have fun with some xxup d&d you can do so in a variety of ways no issues here . xxmaj its the overall structure of the game that suffers ( forcing you to spend money in the xxmaj zen store but really you do n't have to but you could its what 's backward here there is little xxunk between free and paid ) . xxmaj do i recommend this game ? xxmaj sure , the strong graphics , sound , action - oriented combat ( its like xxmaj xxunk of xxmaj xxunk without the blocking mechanic or xxup gw2 ) its fine and deep skill trees , the xxup d&d settings and ruleset , the variety of character classes however the xxmaj zen store and marketing scheme of this game is xxup bad so you must choose caution here . xxmaj xxunk community pressure will change their approach , but for now you put up with it . xxmaj you can play this game completely free , its worth a play through at least . xxmaj how it lasts or endgame ? xxmaj well lets just say they 're working on that . xxmaj its a thumbs up for now but i might change my mind in the future . xxmaj so far hours of free fun , i 've spent no money on this game and my experience has not suffered all that much though i think it is somewhat a pay - to - win structure .\n",
       "y: CategoryList\n",
       "1,1,1,0,1\n",
       "Path: /kaggle/input/steam-reviews;\n",
       "\n",
       "Test: None, model=SequentialRNN(\n",
       "  (0): MultiBatchEncoder(\n",
       "    (module): AWD_LSTM(\n",
       "      (encoder): Embedding(22040, 400, padding_idx=1)\n",
       "      (encoder_dp): EmbeddingDropout(\n",
       "        (emb): Embedding(22040, 400, padding_idx=1)\n",
       "      )\n",
       "      (rnns): ModuleList(\n",
       "        (0): WeightDropout(\n",
       "          (module): LSTM(400, 1152, batch_first=True)\n",
       "        )\n",
       "        (1): WeightDropout(\n",
       "          (module): LSTM(1152, 1152, batch_first=True)\n",
       "        )\n",
       "        (2): WeightDropout(\n",
       "          (module): LSTM(1152, 400, batch_first=True)\n",
       "        )\n",
       "      )\n",
       "      (input_dp): RNNDropout()\n",
       "      (hidden_dps): ModuleList(\n",
       "        (0): RNNDropout()\n",
       "        (1): RNNDropout()\n",
       "        (2): RNNDropout()\n",
       "      )\n",
       "    )\n",
       "  )\n",
       "  (1): PoolingLinearClassifier(\n",
       "    (layers): Sequential(\n",
       "      (0): BatchNorm1d(1200, eps=1e-05, momentum=0.1, affine=True, track_running_stats=True)\n",
       "      (1): Dropout(p=0.2, inplace=False)\n",
       "      (2): Linear(in_features=1200, out_features=50, bias=True)\n",
       "      (3): ReLU(inplace=True)\n",
       "      (4): BatchNorm1d(50, eps=1e-05, momentum=0.1, affine=True, track_running_stats=True)\n",
       "      (5): Dropout(p=0.1, inplace=False)\n",
       "      (6): Linear(in_features=50, out_features=2, bias=True)\n",
       "    )\n",
       "  )\n",
       "), opt_func=functools.partial(<class 'torch.optim.adam.Adam'>, betas=(0.9, 0.99)), loss_func=FlattenedLoss of CrossEntropyLoss(), metrics=[<function accuracy at 0x7f2ce99e5320>], true_wd=True, bn_wd=True, wd=0.01, train_bn=True, path=PosixPath('/kaggle/input/steam-reviews'), model_dir=PosixPath('/kaggle/working'), callback_fns=[functools.partial(<class 'fastai.basic_train.Recorder'>, add_time=True, silent=False)], callbacks=[RNNTrainer\n",
       "learn: ...\n",
       "alpha: 2.0\n",
       "beta: 1.0, MixedPrecision\n",
       "learn: ...\n",
       "loss_scale: 65536\n",
       "max_noskip: 1000\n",
       "dynamic: True\n",
       "clip: None\n",
       "flat_master: False\n",
       "max_scale: 16777216\n",
       "loss_fp32: True], layer_groups=[Sequential(\n",
       "  (0): Embedding(22040, 400, padding_idx=1)\n",
       "  (1): EmbeddingDropout(\n",
       "    (emb): Embedding(22040, 400, padding_idx=1)\n",
       "  )\n",
       "), Sequential(\n",
       "  (0): WeightDropout(\n",
       "    (module): LSTM(400, 1152, batch_first=True)\n",
       "  )\n",
       "  (1): RNNDropout()\n",
       "), Sequential(\n",
       "  (0): WeightDropout(\n",
       "    (module): LSTM(1152, 1152, batch_first=True)\n",
       "  )\n",
       "  (1): RNNDropout()\n",
       "), Sequential(\n",
       "  (0): WeightDropout(\n",
       "    (module): LSTM(1152, 400, batch_first=True)\n",
       "  )\n",
       "  (1): RNNDropout()\n",
       "), Sequential(\n",
       "  (0): PoolingLinearClassifier(\n",
       "    (layers): Sequential(\n",
       "      (0): BatchNorm1d(1200, eps=1e-05, momentum=0.1, affine=True, track_running_stats=True)\n",
       "      (1): Dropout(p=0.2, inplace=False)\n",
       "      (2): Linear(in_features=1200, out_features=50, bias=True)\n",
       "      (3): ReLU(inplace=True)\n",
       "      (4): BatchNorm1d(50, eps=1e-05, momentum=0.1, affine=True, track_running_stats=True)\n",
       "      (5): Dropout(p=0.1, inplace=False)\n",
       "      (6): Linear(in_features=50, out_features=2, bias=True)\n",
       "    )\n",
       "  )\n",
       ")], add_time=True, silent=False)"
      ]
     },
     "execution_count": 23,
     "metadata": {},
     "output_type": "execute_result"
    }
   ],
   "source": [
    "learn = text_classifier_learner(data_clas, AWD_LSTM, drop_mult=0.5).to_fp16()\n",
    "learn.model_dir = Path('/kaggle/working/')\n",
    "learn.load_encoder('language_model_encoder')"
   ]
  },
  {
   "cell_type": "code",
   "execution_count": 24,
   "metadata": {},
   "outputs": [
    {
     "data": {
      "text/html": [
       "<table border=\"1\" class=\"dataframe\">\n",
       "  <thead>\n",
       "    <tr style=\"text-align: right;\">\n",
       "      <th>text</th>\n",
       "      <th>target</th>\n",
       "    </tr>\n",
       "  </thead>\n",
       "  <tbody>\n",
       "    <tr>\n",
       "      <td>xxbos i 'll give a thumbs up only because the game itself is pretty good , but this is not an actual review , it ’s more like a short summary about my over 900 hours spent into this game ( xxup lol n00b ca n’t write xxrep 4 ♥ until 2kh xxup noob ) . i started playing it because my friends convinced me , and because almost everybody</td>\n",
       "      <td>1</td>\n",
       "    </tr>\n",
       "    <tr>\n",
       "      <td>xxbos 19 / xxunk / 17 ' : xxmaj game is pretty much still the same , with some extra features here and there but most of the review remains untouched . xxmaj it 's a shame - and if cod ww2 really is ' back to the roots ' this game might struggle . xxmaj this is xxup not an xxup ea title anymore ; the game you see</td>\n",
       "      <td>0</td>\n",
       "    </tr>\n",
       "    <tr>\n",
       "      <td>xxbos xxmaj it ’s not so much the gameplay that is challenging , but your knowledge of the game itself that challenges you . xxmaj there are many nuances in the game that you have to learn . xxmaj first the vocabulary . xxmaj for example : \" 5 % increased damage \" is very different from \" 5 % more damage \" . xxmaj and because of this do</td>\n",
       "      <td>0</td>\n",
       "    </tr>\n",
       "    <tr>\n",
       "      <td>xxbos i purchased this game back and 2008 and only played the 30 day free trial but did nt feel like it was worth the subscription fee at the time as i probably did nt put enough time into . xxmaj when everquest 2 extended came out i downloaded it too but never ended up really playing it as i just could nt get into it . xxmaj finally i</td>\n",
       "      <td>1</td>\n",
       "    </tr>\n",
       "    <tr>\n",
       "      <td>xxbos xxmaj early xxmaj access xxunk to all known xxunk aviation , there is no way a xxunk be able to fly . xxmaj its wings are too small to xxunk fat little body off the ground . xxmaj the bee , of course , flies xxunk bees do n't xxunk humans think is impossible . xxmaj yellow , black . xxmaj yellow , black . xxmaj yellow , black</td>\n",
       "      <td>1</td>\n",
       "    </tr>\n",
       "  </tbody>\n",
       "</table>"
      ],
      "text/plain": [
       "<IPython.core.display.HTML object>"
      ]
     },
     "metadata": {},
     "output_type": "display_data"
    }
   ],
   "source": [
    "data_clas.show_batch()"
   ]
  },
  {
   "cell_type": "code",
   "execution_count": 25,
   "metadata": {},
   "outputs": [
    {
     "data": {
      "text/html": [
       "<table border=\"1\" class=\"dataframe\">\n",
       "  <thead>\n",
       "    <tr style=\"text-align: left;\">\n",
       "      <th>epoch</th>\n",
       "      <th>train_loss</th>\n",
       "      <th>valid_loss</th>\n",
       "      <th>accuracy</th>\n",
       "      <th>time</th>\n",
       "    </tr>\n",
       "  </thead>\n",
       "  <tbody>\n",
       "    <tr>\n",
       "      <td>0</td>\n",
       "      <td>0.395847</td>\n",
       "      <td>0.338423</td>\n",
       "      <td>0.858245</td>\n",
       "      <td>00:42</td>\n",
       "    </tr>\n",
       "  </tbody>\n",
       "</table>"
      ],
      "text/plain": [
       "<IPython.core.display.HTML object>"
      ]
     },
     "metadata": {},
     "output_type": "display_data"
    }
   ],
   "source": [
    "learn.fit_one_cycle(1, 5e-2)"
   ]
  },
  {
   "cell_type": "code",
   "execution_count": 26,
   "metadata": {},
   "outputs": [
    {
     "data": {
      "text/html": [
       "<table border=\"1\" class=\"dataframe\">\n",
       "  <thead>\n",
       "    <tr style=\"text-align: left;\">\n",
       "      <th>epoch</th>\n",
       "      <th>train_loss</th>\n",
       "      <th>valid_loss</th>\n",
       "      <th>accuracy</th>\n",
       "      <th>time</th>\n",
       "    </tr>\n",
       "  </thead>\n",
       "  <tbody>\n",
       "    <tr>\n",
       "      <td>0</td>\n",
       "      <td>0.325072</td>\n",
       "      <td>0.284241</td>\n",
       "      <td>0.876536</td>\n",
       "      <td>01:59</td>\n",
       "    </tr>\n",
       "    <tr>\n",
       "      <td>1</td>\n",
       "      <td>0.262473</td>\n",
       "      <td>0.246284</td>\n",
       "      <td>0.896542</td>\n",
       "      <td>01:37</td>\n",
       "    </tr>\n",
       "    <tr>\n",
       "      <td>2</td>\n",
       "      <td>0.162163</td>\n",
       "      <td>0.263654</td>\n",
       "      <td>0.899971</td>\n",
       "      <td>01:55</td>\n",
       "    </tr>\n",
       "  </tbody>\n",
       "</table>"
      ],
      "text/plain": [
       "<IPython.core.display.HTML object>"
      ]
     },
     "metadata": {},
     "output_type": "display_data"
    }
   ],
   "source": [
    "learn.unfreeze()\n",
    "learn.fit_one_cycle(3, slice(1e-4, 1e-2))"
   ]
  },
  {
   "cell_type": "code",
   "execution_count": 27,
   "metadata": {},
   "outputs": [
    {
     "data": {
      "text/plain": [
       "(Category tensor(0), tensor(0), tensor([0.9982, 0.0018]))"
      ]
     },
     "execution_count": 27,
     "metadata": {},
     "output_type": "execute_result"
    }
   ],
   "source": [
    "learn.predict('This game is absolute shit! Dont waste your money!')"
   ]
  },
  {
   "cell_type": "code",
   "execution_count": 28,
   "metadata": {},
   "outputs": [
    {
     "data": {
      "text/plain": [
       "(Category tensor(1), tensor(1), tensor([0.0525, 0.9475]))"
      ]
     },
     "execution_count": 28,
     "metadata": {},
     "output_type": "execute_result"
    }
   ],
   "source": [
    "learn.predict('This is one of the best games to buy!')"
   ]
  },
  {
   "cell_type": "code",
   "execution_count": 29,
   "metadata": {},
   "outputs": [
    {
     "data": {
      "text/plain": [
       "(Category tensor(1), tensor(1), tensor([0.0289, 0.9711]))"
      ]
     },
     "execution_count": 29,
     "metadata": {},
     "output_type": "execute_result"
    }
   ],
   "source": [
    "learn.predict('The best button of the game is exit button')"
   ]
  },
  {
   "cell_type": "markdown",
   "execution_count": null,
   "metadata": {},
   "source": [
    "Pretty good for the first two! But our model interestingly still can't tell the difference between appreciation and sarcasm! Maybe we can address this ove"
   ]
  },
  {
   "cell_type": "code",
   "execution_count": 30,
   "metadata": {
    "_kg_hide-input": true,
    "_kg_hide-output": true
   },
   "outputs": [],
   "source": [
    "#learn.unfreeze()\n",
    "#learn.fit_one_cycle(3, slice(1e-4, 1e-2))"
   ]
  },
  {
   "cell_type": "markdown",
   "execution_count": null,
   "metadata": {},
   "source": [
    "### **Accuracy - 90%**\n",
    "\n",
    "It's amazing how little effort we had to put in to get to this point. fast.ai's implementation and ULMFit makes it incredible easy to get started with limited data and get great results, leveraging the power of Transfer Learning. I hope this was helpful for you as well to get started with NLP and Transfer Learning. I'll catch you later in the 4th blog of this series, where we take this up a notch and explore transformers!"
   ]
  },
  {
   "cell_type": "code",
   "execution_count": 31,
   "metadata": {
    "_kg_hide-input": true,
    "_kg_hide-output": true
   },
   "outputs": [],
   "source": [
    "data_clas.save('/kaggle/working/data_textlist_class')"
   ]
  },
  {
   "cell_type": "code",
   "execution_count": 32,
   "metadata": {
    "_kg_hide-input": true,
    "_kg_hide-output": true
   },
   "outputs": [],
   "source": [
    "learn.model_dir = Path('/kaggle/working/')\n",
    "learn.save('data_model')"
   ]
  },
  {
   "cell_type": "code",
   "execution_count": 33,
   "metadata": {
    "_kg_hide-input": true,
    "_kg_hide-output": true
   },
   "outputs": [],
   "source": [
    "data_clas = load_data(path, '/kaggle/working/data_textlist_class', bs=bs, num_workers=1)"
   ]
  },
  {
   "cell_type": "code",
   "execution_count": 34,
   "metadata": {
    "_kg_hide-input": true,
    "_kg_hide-output": true
   },
   "outputs": [
    {
     "data": {
      "text/plain": [
       "TextClasDataBunch;\n",
       "\n",
       "Train: LabelList (13995 items)\n",
       "x: TextList\n",
       "xxbos i was introduced by a former - friend and guide on this game , and i really enjoyed it . xxmaj it 's very time consuming , and i 've never been too much into xxup rpg 's , but this one was a lot of fun . 7 / 10,xxbos xxmaj if you 've ever played and enjoyed xxmaj starwars : xxmaj battlefront in your nostalgic childhood days , then planetside 2 may very well be in your ball park , and will knock several home runs to boot . xxmaj it will blow your ideas of massive scale battles in a video game out of the water , xxunk only by a few select titles . xxmaj soon upon entry you will learn that as a singular soldier your affect on the waging war is minuet at best , but your duty as an individual in a faction is as important as the people fighting by your side . planetside 2 is a game best played when working with others , or simply causing havoc with your friends . xxmaj there 's no feeling that can compare to flying well above the ground in a gunship , firing off rounds from a xxmaj xxunk - an explosive cannon - upon the unsuspecting targets below . xxmaj well co - xxunk attacks see uncountable masses of tanks rolling across the continent , much to the defender 's disdain . xxmaj the sheer scale of planetside is impressive at its worst , spectacular at its best . xxmaj being a free - to - play xxup mmo , the war never ceases . xxmaj there is a vast pool of weapons , resources and upgrades at your disposal . xxmaj station cash makes for the inevitable real - world currency of an xxup mmo , allowing you to boost your experience or purchase vanity items . xxmaj everything else can be bought with xxmaj certs , a currency that is earned through play . xxmaj in the end , the experience you have or wish to have is entirely up to you .,xxbos i 've tried a few different mmos , and normally i burn out of them pretty fast ( tab targetting etc is not very engaging ) . xxmaj with xxmaj neverwinter i find the gameplay fun enough that i have managed to level up to 64 quite pleasantly . i am a big fan of xxmaj dungeons and xxmaj dragons , so it is a lot of fun to see monsters and locations from the famous xxmaj forgotten xxmaj realms setting . xxmaj the zones are mostly pretty cool to romp around in and i find the combat fun , which is good because almost all quests are of the kill x monsters type . i have set myself up with a controller by using a key mapping software called xxunk , which is working really well and lets me chill out and play it with controller , which it is designed for in any case . 64 levels in and i 've not spent a penny , which is pretty good !,xxbos xxmaj life traverse is exceptional for forceful shooters . xxmaj hardly a month goes by without new virtual fields xxunk up and appealing you into some fresh conflict , and only a few surely understood xxunk make sense of how to oversee dynamic player bases even a year after their hidden release . xxmaj what 's more , a short time later there 's xxmaj team xxmaj fortress 2 . xxmaj released in 2007 , this class - based commendable is so far going strong particularly into its seventh year , in view of its vigorous and innovative gathering . xxmaj since xxunk 's one of a kind xxup tf2 review , the entertainment has xxunk from different upgrades and made the skip to a permitted to - play plan of activity . xxmaj the middle action pits two xxunk of players against each other in a battle to get centers , move a truck , or take an organizer case . xxmaj the objective is always xxunk clear ; it 's the exchange between the nine playable classes that makes things so varied and interesting . xxmaj the convenient scout , the xxunk generous , the xxunk pro , the xxunk specialist , the irritating xxunk , the tricky see , the feisty pyro , the shaky trooper , and the fundamentally more - risky demoman all have exceptional weapons , attributes , and limits that supplement each other and xxunk in bundle ways . xxmaj encounters can vary xxunk depending upon the match sort and the xxunk of each gathering , and this xxunk is dire to xxup tf2 's long - standing xxunk . xxmaj when you leave the door as a mind - boggling with a specialist near to , you 're a forcing unfriendly xxunk , yet if a spy hovers around to deceive the specialist and you round the corner on a pyro , it can all come xxunk in a matter of seconds . xxmaj master xxunk can cover expected foe ways , however rocket - ricocheting warriors have an ability for finding xxunk courses and raining dangerous going from above . xxmaj you may think you have an also fragile scout dead to rights , just to be xxunk by a baseball and beat the life out of . xxmaj as you watch your giblets splatter on the ground and see a quit xxunk of your cheerful killer , it 's hard not to chuckle at the sheer grouping of ways you can meet an unfavorable end . xxmaj besides , engaging jokes , insane outfits , and sensational host build up this sprightly tone . xxmaj clearly , this inside component has endured for by far most of xxup tf2 's future , so if you quit playing it two or three years earlier and return for a couple matches , you 'll find things are to a great degree surely understood . xxmaj taking in the ropes and getting the hang of your picked part is still a delightful information , and acing pushed frameworks does n't just make you deadlier ; it gives you more options for how to approach fight . xxmaj keeping your choices open is still xxunk too , in light of the way that being versatile with your choice of character can help you refrain from ending up on a xxunk imbalanced squad . xxmaj it is xxmaj team xxmaj fortress , taking all things into account . xxmaj regardless , however there is much that has stayed steady about the inside redirection , there have been some noticeable changes consistently , and moreover ordinary xxunk of new weapons and things . xxmaj of the few things available in the online store , some can be opened through play , while others must be acquired with genuine money . xxmaj from little xxunk that cost not precisely a dollar to huge packs that cost hundreds , there 's a broad assortment of ways to deal with adjust your experience . xxmaj some of the things offer just a vigorous twist on the entertainment 's starting now xxunk toon snappy . xxmaj you can buy tops , shirts , shoes , and other xxunk gear to xxunk up like a character from xxmaj adult xxmaj swim or wear spooky xxunk xxunk that you can wear just in the midst of xxmaj halloween or a full moon . xxmaj notwithstanding the likelihood that you do n't support spending for any of this stuff , it 's diverting to see some visual grouping as you endeavor to light your adversaries on fire . xxmaj the best difference from the redirection 's beginnings comes in the accommodating mode , xxmaj mann versus xxmaj machine . xxmaj in it , you and a few other human players must maintain a strategic distance from swarms of xxunk incarnations of xxup tf2 's classes from passing on a bomb to your base . xxmaj the money you pick up from xxunk robots can be spent on mid - organize climbs to your qualities and weaponry , which can be essential to accomplishment . xxmaj for sure , even on the most easy level , the robot armed forces are adequately wild to test the guts of a messy gathering . xxmaj this is a mode where absolutely xxunk weapon choices and defensive frameworks can mean the xxunk among succeeding and attempting , endeavor xxunk . xxmaj you can play this mode to no end , yet you wo n't be met all requirements to increase exceptional prizes or complete difficulties unless you pay a dollar for a xxmaj tour of xxmaj duty ticket . xxmaj notwithstanding the way that it does n't have the xxunk xxunk of centered play , the supportive mode can even now offer satisfaction to those adequately committed to see it through . xxmaj however , xxunk is the honest to goodness draw , and the xxmaj team xxmaj fortress 2 gathering can completely be engaged . xxmaj on a couple of servers , you might be scolded for xxunk cracks of xxunk , while on others , you might be welcomed with pleasing tips and xxunk . xxmaj you can even demand help on particular servers and be xxunk with another player why ought to willing give you a couple tips through talk . xxmaj the society around xxup tf2 is a charming one , not just for their significant learning of and vitality for the delight , yet for their imaginative attempts in arranging new weapons , things , and maps that have since ended up being a bit of the experience . xxmaj it feels like a gathering of managers , without whom the delight may well have dwindled away and gone into obsolete nature years earlier . xxmaj staying imperative even a year after release is extraordinary for an engaged shooter , yet , here 's xxmaj team xxmaj fortress 2 , still xxunk after seven years in the business . xxmaj every so often it feels like comparable diversion you could have played back then , and at various times it feels like no one will ever extremely nail class - based shooter competition the way xxup tf2 does . xxmaj the experience has created during the time without exchanging off what made it so extraordinary regardless , so however your permitted to - play choices may have extended altogether in the past couple of years , there are few that do it furthermore xxmaj team xxmaj fortress xxunk reviews are retrieved from the xxmaj internet and xxunk through a succession of xxunk tools three times both for humour and to save time . xxmaj in my religion , this is known as xxunk ) , but you can call it \" xxmaj xxunk \" ),xxbos i was excited about this game on steam . xxmaj free to play and all , awesome . i had played this back when if was first released on my phone , and i enjoyed it . xxmaj it had a short life back then , but it was good . xxmaj that being said , i still enjoy it , but with one small issue that has ruined it for me . xxmaj radscorpions . xxmaj they are so op that it makes the game not as fun , and more frustrating . i end up rushing a room , and getting one of those little b xxrep 5 * ds . xxmaj they drain my energy below xxunk , which renders my xxunk rooms un - capable of producing anything . xxmaj they have very hard to kill , they move randomly . i usually end up with 4 - 5 dead dwellers . xxmaj after the attack i am usually out of xxmaj xxunk . xxmaj so i have to rush rooms just to gain back enough energy to keep my dwellers alive , and i get another xxunk xxmaj radscorpion . xxmaj maybe introduce them later into the game , when at least all my dwellers have weapons ? xxmaj but as of right now , i wo n't be playing for awhile . i am annoyed and frustrated . xxmaj otherwise , i do like the updates , the missions are cool . xxmaj the new rooms are fun . xxmaj being able to build weapons and outfits gives the game depth . xxmaj if they made xxunk less powerful and random , i will come back , until then xxunk .\n",
       "y: CategoryList\n",
       "1,1,1,1,0\n",
       "Path: /kaggle/input/steam-reviews;\n",
       "\n",
       "Valid: LabelList (3499 items)\n",
       "x: TextList\n",
       "xxbos xxmaj pros : xxmaj great art xxunk xxunk simple to learn : the more you play , the better you xxunk and legends somewhat well balanced ( it was for a long time , at the time of this review some patches just changed the meta but i 'm sure it 'll be xxunk economic system : entierly free to play , the game relies on people buying skins ( same as xxmaj league of xxunk : xxmaj matchmaking needs to be re - xxunk you have low internet speed , you ca n't play xxunk - of - game chat is a xxunk , the game is awesome , but the multiplayer system around it needs some work .,xxbos xxmaj early xxmaj access reviewthis game is absolutely amazing . xxmaj it 's my most played game and i enjoy playing all day everyday . xxmaj brawlhalla is rather polished for something still in the beta - ish stages , obviously needing more updates to further increase it 's general greatness . xxmaj i'm a diamond player and really enjoy playing with my xxunk definitely recommend this to anyone wanting a game to have there on the side at the cost of nothing ( although i ve spent about $ xxunk xxup xxunk on cosmetics xd ) it is definitely the best free to play small little game in my xxunk problem however i commonly encounter is the somewhat toxic community , yes there are really friendly people but most of the time people tend to say something nasty if you win or loose regardless , i guess that 's just what happens with these types of games : alot of salty players . xxmaj other than that . legendary game for all i 'd say . but of course if you 're not into this sort of game then obviously you would n't like it : xxunk for me , i 'm a 2v2 competitive player ranking # 1 aus and top 30 xxunk several times throughout seasons 1 - 6 , however casual play is just as fun if you want to create your own mini - rules , which i have personally experienced before . xxmaj try doing xxmaj no sigs , only sigs , or just playing your worst legends with some friends , xxmaj brawlhalla is not limited to the conventional fighting , you can even xxunk some bots ! : dedit : i would like to say that i 'm doing this edit as of now to get my badge for the steam autumn sales and whatnot , however i did nominate it for the \" no apologies \" award as i feel many people feel negatively about this game ( possible because of their lack of skill xxup ;d ) and i would like to say xxunk that i still love the game although i have nt played a whole lot in general across the recent months .,xxbos xxmaj infestation | xxmaj the xxunk you read , i would like to say that i have over 300 hours on this game before steam release . xxmaj infestation | xxmaj the newz , is an official rework of the original ( and bad ) title xxmaj infestation | xxmaj survivor xxmaj stores , formerly known as xxmaj the warz , xxmaj the newz is being worked on by a whole new development team called xxmaj fredaikis xxup ab , xxmaj there is not a single dev from the original xxup iss on this development team . xxmaj everyone knows xxmaj the warz and how bad the game was . xxmaj it was riddled with hackers , xxmaj it was xxup seriously pay to win , loot was rare , so it made hackers even more populated , xxmaj it was full of bugs that devs did not patch , and lets be honest ... there was no content . xxmaj all there was to do is xxunk ... on the other hand , xxmaj fredaikis xxup ab , the team behind this game have been doing a great job in correcting the errors that the past development team did , xxmaj they are listening to the community , and trying their best to make a game that you guys want . xxmaj they have released an anticheat called xxup mlg anticheat , xxup this anticheat was designed xxup just for this game , i have over 300 hours before steam and i have only got cheated xxup once . i repeat xxunk to the lack of content the previous game had , they made about 10 different xxup pvp server maps , so you can hop into it and xxup pvp right away , they made a custom xxup br , xxmaj they added airdrops , ( these drop about every hour ) on official servers , xxmaj they have revamped the xxup ui , they have added xxup alot of guns that the original xxup iss did not have . and armor , helmets etc . xxup and xxup they xxup added xxup skins <3 xxmaj traders dream ! xxmaj they have completely removed the xxmaj pay 2 win aspect of the game , now all you have to do is kill zombies and players and you can buy every single thing in the market . xxmaj they have not removed ( xxup gc ) xxmaj gold credits , you can use this to purchase a private server to loot , or to buy premium and buy skins in the market place . xxup this xxup is xxup just xxup to xxup support xxup this xxup game xxup and xxup keep xxup it xxunk of you guys need to understand , they need to have a few things they can make money off of . a game is not free , they need some sort of money to pay for all of their servers that 10,000 people are playing on .,xxbos i have never considered giving this game anything but praise until now . xxmaj now i 'm voting with my review to try and urge valve to bring back quickplay and casual pubs into the game . xxmaj not this xxrep 6 ♥ overwatch / any - xxunk xxrep 4 ♥ ing - shooter lobby based queueing xxrep 7 ♥ t. i do n't give a xxrep 4 ♥ how low the queue times are it still takes up to two minutes between games just for server connection . i used to only have to do that after literal hours of fun on whatever map i chose . xxmaj good players , bad players , tryhards , friendlies . xxmaj all together . xxmaj all having fun on whatever map they wanted . xxmaj in whatever region they wanted , for as long as they wanted without any queueing or connecting . xxmaj this change is utter insanity . xxmaj everyone was excited about matchmaking but i doubt a single person was hoping they would replace the xxup entire game with it . xxmaj for xxup years xxunk has been my favorite activity . xxmaj the only thing in my life that guaranteed fun and an escape from xxrep 7 ♥ t. i xxunk when i was happy , sad , lonely or with friends laughing and having fun . xxmaj this game is the most important activity is my life and has been since i started playing 5 years ago . xxmaj pubs have always been my place to just go and be free and have fun without a worry or care beyond that tryhard soldier i 'm trying to stop from dominating me , or the free to play xxunk that crit me to death with his wrench . xxmaj this game can be very competitive and i enjoy that aspect , but above all else it is fun . xxmaj it has to stay fun . xxmaj please xxmaj valve . xxmaj please give us back the best part of this game .,xxbos xxmaj hmm well this game is xxunk bad or good depending what you 're looking for . xxmaj social experience , lacking but present , community is nice but absent minded , questing is solo - oriented but there is group quests as well , xxmaj zen market where you buy stuff is rediculously overpriced no one would buy anything from there unless a steep , steep , very steep incentive / sale was on , however most anything you need can be bought with diamonds / gold ; there 's a lack of ingame xxunk that must be overcome by strong inventory management from the get - xxunk becomes less annoying once you learn what to sell / keep / stack ) not to mention this is an xxup mmo and its a xxunk version of that ( you can play this game even the xxup pc version with a controller using xxmaj xpadder xxunk software and it works great really smooth actually no complaints there - its sad the lazy developers have n't offered this yet to the xxup pc hardcore fans that do n't know how to setup xxmaj xpadder on their own ) which caters to xxunk button configurations etc . so its easy to pick up and play . xxmaj would i suggest caution on spending money on this game ? xxmaj in the xxup zen store for example ? xxmaj yes . xxmaj the prices are inflated and you do n't get much value there . xxmaj pathetic really . xxmaj it puts the developer in a bad light , prices are so high no one can understand xxunk motive except to cater to a certain xxunk meanwhile no one plays the game because those that would pay a small $ 10 or $ 20 in the xxmaj zen store are discouraged because believe it or not , that wo n't buy you xxrep 6 ♥ for this game . xxmaj we 're talking hundreds of dollers to get anything worthwhile . xxmaj pathetic . xxmaj the developers are out of tough , its all i can think of to say . i think they are completely wrong in their approach . xxmaj stay away from the xxmaj zen store . xxmaj that said , you can play at least 2 character slots for free , the quests are well designed , most everything is voiced over , its an xxup mmo so there 's tons to do from crafting to questing , to pvp to dungeon crawling its all here etc . xxmaj you can play the game entirely for free and there 's a bunch of cool classes but you 're limited by 2 character slots unless you pay 300 xxmaj zen for another ( that s a rediculous cost ) so yea except for that its all good here . xxmaj if you want to pick up and play and have fun with some xxup d&d you can do so in a variety of ways no issues here . xxmaj its the overall structure of the game that suffers ( forcing you to spend money in the xxmaj zen store but really you do n't have to but you could its what 's backward here there is little xxunk between free and paid ) . xxmaj do i recommend this game ? xxmaj sure , the strong graphics , sound , action - oriented combat ( its like xxmaj xxunk of xxmaj xxunk without the blocking mechanic or xxup gw2 ) its fine and deep skill trees , the xxup d&d settings and ruleset , the variety of character classes however the xxmaj zen store and marketing scheme of this game is xxup bad so you must choose caution here . xxmaj xxunk community pressure will change their approach , but for now you put up with it . xxmaj you can play this game completely free , its worth a play through at least . xxmaj how it lasts or endgame ? xxmaj well lets just say they 're working on that . xxmaj its a thumbs up for now but i might change my mind in the future . xxmaj so far hours of free fun , i 've spent no money on this game and my experience has not suffered all that much though i think it is somewhat a pay - to - win structure .\n",
       "y: CategoryList\n",
       "1,1,1,0,1\n",
       "Path: /kaggle/input/steam-reviews;\n",
       "\n",
       "Test: None"
      ]
     },
     "execution_count": 34,
     "metadata": {},
     "output_type": "execute_result"
    }
   ],
   "source": [
    "data_clas"
   ]
  },
  {
   "cell_type": "code",
   "execution_count": 35,
   "metadata": {
    "_kg_hide-input": true,
    "_kg_hide-output": true
   },
   "outputs": [],
   "source": [
    "data_clas = load_data(path, '/kaggle/working/data_textlist_class', bs=bs, num_workers=1)\n",
    "learn_c = text_classifier_learner(data_clas, AWD_LSTM, drop_mult=0.5, metrics = [accuracy]).to_fp16()\n",
    "learn_c.model_dir = Path('/kaggle/working/')\n",
    "learn_c.load('data_model', purge=False);"
   ]
  },
  {
   "cell_type": "markdown",
   "execution_count": null,
   "metadata": {},
   "source": [
    "Loading and training on reverse data"
   ]
  },
  {
   "cell_type": "code",
   "execution_count": 36,
   "metadata": {
    "_kg_hide-input": true,
    "_kg_hide-output": true
   },
   "outputs": [],
   "source": [
    "data_clas_bwd = load_data(path, '/kaggle/working/data_textlist_class', bs=bs, num_workers=1, backwards=True)\n",
    "learn_c_bwd = text_classifier_learner(data_clas_bwd, AWD_LSTM, drop_mult=0.5, metrics=[accuracy]).to_fp16()"
   ]
  },
  {
   "cell_type": "code",
   "execution_count": 37,
   "metadata": {
    "_kg_hide-input": true,
    "_kg_hide-output": true
   },
   "outputs": [
    {
     "data": {
      "text/html": [
       "<table border=\"1\" class=\"dataframe\">\n",
       "  <thead>\n",
       "    <tr style=\"text-align: right;\">\n",
       "      <th>text</th>\n",
       "      <th>target</th>\n",
       "    </tr>\n",
       "  </thead>\n",
       "  <tbody>\n",
       "    <tr>\n",
       "      <td>scum trench n00b gud git lul xxunk a lose me xxup made you xxup because you kill to want xxunk silly xxmaj . videogame a lost i because only brother my kill to want n't do i course of , xxunk xxup &gt; &gt; ? ? ? videogame a lost you because just brother your kill to want really you do xxmaj ! dave xxmaj but - b &lt; &lt;</td>\n",
       "      <td>1</td>\n",
       "    </tr>\n",
       "    <tr>\n",
       "      <td>. ) mind in such and ribbons taking when ( unlock to lot a xxunk decent with f2p xxup xxunk has still it overal but ; performance over visuals reduces which slider extra an added they : gameplay unoptimized - / xxunk ) + ( now of as variety more has it , vehicles more add did they - ) imo enough not - vehicles and weapons in variety little</td>\n",
       "      <td>0</td>\n",
       "    </tr>\n",
       "    <tr>\n",
       "      <td>d&amp;d. xxup to related anything or nwn xxup after named n't was it if perspective different a from it at look probably would i . matter that for , fun or , playable n't is game this say to n't is that xxmaj . this in disappointed utterly be to going are players of kinds those of both xxmaj . fans nights xxmaj neverwinter xxmaj nor , fans d&amp;d xxup</td>\n",
       "      <td>0</td>\n",
       "    </tr>\n",
       "    <tr>\n",
       "      <td>) war the of vehicles with mean i ( itself school than teacher better a definitely is it as , games of type these with familiar not those even to game this recomment i , overall xxmaj ) permanently it get you , with lions xxmaj silver xxmaj and points research of lot a earn can you that , vehicle exclusive ( vehicle premium a purchase or ) battles from</td>\n",
       "      <td>1</td>\n",
       "    </tr>\n",
       "    <tr>\n",
       "      <td>. you see xxmaj . day some product optimised and decent a us give to able be will ed xxup hope let and continuation great a guy you hope i anyway xxmaj . saw we what from far really is game the and demos and videos promo saw all we , too dissapointed be will you or setup gen last very have you unless improvement for wait and one this</td>\n",
       "      <td>0</td>\n",
       "    </tr>\n",
       "  </tbody>\n",
       "</table>"
      ],
      "text/plain": [
       "<IPython.core.display.HTML object>"
      ]
     },
     "metadata": {},
     "output_type": "display_data"
    }
   ],
   "source": [
    "data_clas_bwd.show_batch()"
   ]
  },
  {
   "cell_type": "code",
   "execution_count": 38,
   "metadata": {
    "_kg_hide-input": true,
    "_kg_hide-output": true
   },
   "outputs": [
    {
     "data": {
      "text/html": [
       "<table border=\"1\" class=\"dataframe\">\n",
       "  <thead>\n",
       "    <tr style=\"text-align: left;\">\n",
       "      <th>epoch</th>\n",
       "      <th>train_loss</th>\n",
       "      <th>valid_loss</th>\n",
       "      <th>accuracy</th>\n",
       "      <th>time</th>\n",
       "    </tr>\n",
       "  </thead>\n",
       "  <tbody>\n",
       "    <tr>\n",
       "      <td>0</td>\n",
       "      <td>0.679354</td>\n",
       "      <td>0.681688</td>\n",
       "      <td>0.575593</td>\n",
       "      <td>01:35</td>\n",
       "    </tr>\n",
       "  </tbody>\n",
       "</table>"
      ],
      "text/plain": [
       "<IPython.core.display.HTML object>"
      ]
     },
     "metadata": {},
     "output_type": "display_data"
    }
   ],
   "source": [
    "learn_c_bwd.fit_one_cycle(1, 1e-2)"
   ]
  },
  {
   "cell_type": "code",
   "execution_count": 39,
   "metadata": {
    "_kg_hide-input": true,
    "_kg_hide-output": true
   },
   "outputs": [
    {
     "data": {
      "text/html": [
       "<table border=\"1\" class=\"dataframe\">\n",
       "  <thead>\n",
       "    <tr style=\"text-align: left;\">\n",
       "      <th>epoch</th>\n",
       "      <th>train_loss</th>\n",
       "      <th>valid_loss</th>\n",
       "      <th>accuracy</th>\n",
       "      <th>time</th>\n",
       "    </tr>\n",
       "  </thead>\n",
       "  <tbody>\n",
       "    <tr>\n",
       "      <td>0</td>\n",
       "      <td>0.512702</td>\n",
       "      <td>0.473597</td>\n",
       "      <td>0.780223</td>\n",
       "      <td>03:29</td>\n",
       "    </tr>\n",
       "    <tr>\n",
       "      <td>1</td>\n",
       "      <td>0.428858</td>\n",
       "      <td>0.415033</td>\n",
       "      <td>0.825379</td>\n",
       "      <td>02:47</td>\n",
       "    </tr>\n",
       "    <tr>\n",
       "      <td>2</td>\n",
       "      <td>0.361522</td>\n",
       "      <td>0.358077</td>\n",
       "      <td>0.855387</td>\n",
       "      <td>03:35</td>\n",
       "    </tr>\n",
       "    <tr>\n",
       "      <td>3</td>\n",
       "      <td>0.283403</td>\n",
       "      <td>0.346236</td>\n",
       "      <td>0.856245</td>\n",
       "      <td>03:01</td>\n",
       "    </tr>\n",
       "    <tr>\n",
       "      <td>4</td>\n",
       "      <td>0.246624</td>\n",
       "      <td>0.331362</td>\n",
       "      <td>0.863675</td>\n",
       "      <td>03:18</td>\n",
       "    </tr>\n",
       "  </tbody>\n",
       "</table>"
      ],
      "text/plain": [
       "<IPython.core.display.HTML object>"
      ]
     },
     "metadata": {},
     "output_type": "display_data"
    }
   ],
   "source": [
    "learn_c_bwd.unfreeze()\n",
    "learn_c_bwd.fit_one_cycle(5, slice(1e-4, 1e-2))"
   ]
  },
  {
   "cell_type": "code",
   "execution_count": 40,
   "metadata": {
    "_kg_hide-input": true,
    "_kg_hide-output": true
   },
   "outputs": [
    {
     "data": {
      "text/html": [],
      "text/plain": [
       "<IPython.core.display.HTML object>"
      ]
     },
     "metadata": {},
     "output_type": "display_data"
    },
    {
     "data": {
      "text/plain": [
       "tensor(0.9000)"
      ]
     },
     "execution_count": 40,
     "metadata": {},
     "output_type": "execute_result"
    }
   ],
   "source": [
    "preds,targs = learn_c.get_preds(ordered=True)\n",
    "accuracy(preds,targs)"
   ]
  },
  {
   "cell_type": "code",
   "execution_count": 41,
   "metadata": {
    "_kg_hide-input": true,
    "_kg_hide-output": true
   },
   "outputs": [
    {
     "data": {
      "text/html": [],
      "text/plain": [
       "<IPython.core.display.HTML object>"
      ]
     },
     "metadata": {},
     "output_type": "display_data"
    },
    {
     "data": {
      "text/plain": [
       "tensor(0.8637)"
      ]
     },
     "execution_count": 41,
     "metadata": {},
     "output_type": "execute_result"
    }
   ],
   "source": [
    "preds_b,targs_b = learn_c_bwd.get_preds(ordered=True)\n",
    "accuracy(preds_b,targs_b)"
   ]
  },
  {
   "cell_type": "code",
   "execution_count": 42,
   "metadata": {
    "_kg_hide-input": true,
    "_kg_hide-output": true
   },
   "outputs": [
    {
     "data": {
      "text/plain": [
       "tensor(0.9003)"
      ]
     },
     "execution_count": 42,
     "metadata": {},
     "output_type": "execute_result"
    }
   ],
   "source": [
    "preds_avg = (preds+preds_b)/2\n",
    "accuracy(preds_avg,targs_b)"
   ]
  }
 ],
 "metadata": {
  "kernelspec": {
   "display_name": "Python 3",
   "language": "python",
   "name": "python3"
  },
  "language_info": {
   "codemirror_mode": {
    "name": "ipython",
    "version": 3
   },
   "file_extension": ".py",
   "mimetype": "text/x-python",
   "name": "python",
   "nbconvert_exporter": "python",
   "pygments_lexer": "ipython3",
   "version": "3.7.6"
  }
 },
 "nbformat": 4,
 "nbformat_minor": 4
}
